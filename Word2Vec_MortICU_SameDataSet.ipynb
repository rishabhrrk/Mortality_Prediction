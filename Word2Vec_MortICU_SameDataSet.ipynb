{
 "cells": [
  {
   "cell_type": "code",
   "execution_count": 351,
   "metadata": {},
   "outputs": [],
   "source": [
    "# columns to keep as input features in the dataset\n",
    "static_columns = ['gender', 'ethnicity', 'age', 'insurance', 'admission_type', 'first_careunit', 'icd9_codes']\n",
    "\n",
    "#icd9 codes column name\n",
    "icd9 = 'icd9_codes'\n",
    "\n",
    "# prediciton label column in the dataset\n",
    "target = 'mort_hosp'"
   ]
  },
  {
   "cell_type": "markdown",
   "metadata": {},
   "source": [
    "### Loading the dataset from file"
   ]
  },
  {
   "cell_type": "code",
   "execution_count": 352,
   "metadata": {},
   "outputs": [
    {
     "name": "stdout",
     "output_type": "stream",
     "text": [
      "The autoreload extension is already loaded. To reload it, use:\n",
      "  %reload_ext autoreload\n"
     ]
    }
   ],
   "source": [
    "%load_ext autoreload\n",
    "from __future__ import print_function, division"
   ]
  },
  {
   "cell_type": "code",
   "execution_count": 353,
   "metadata": {},
   "outputs": [],
   "source": [
    "%autoreload\n",
    "\n",
    "import copy, math, os, pickle, time, pandas as pd, numpy as np, scipy.stats as ss"
   ]
  },
  {
   "cell_type": "code",
   "execution_count": 354,
   "metadata": {},
   "outputs": [
    {
     "name": "stdout",
     "output_type": "stream",
     "text": [
      "CPU times: user 197 ms, sys: 13.1 ms, total: 210 ms\n",
      "Wall time: 224 ms\n"
     ]
    }
   ],
   "source": [
    "%%time\n",
    "d1 = pd.read_hdf('../Mortality/output2/C.h5')\n",
    "d3 = pd.read_hdf('../Mortality/output2/all_hourly_data.h5','patients')"
   ]
  },
  {
   "cell_type": "code",
   "execution_count": 355,
   "metadata": {},
   "outputs": [],
   "source": [
    "pd.set_option('display.max_columns', None)"
   ]
  },
  {
   "cell_type": "code",
   "execution_count": 356,
   "metadata": {},
   "outputs": [],
   "source": [
    "d7 = pd.merge(d3,d1,how='right',on=['subject_id','hadm_id','icustay_id'])"
   ]
  },
  {
   "cell_type": "code",
   "execution_count": 357,
   "metadata": {},
   "outputs": [
    {
     "data": {
      "text/html": [
       "<div>\n",
       "<style scoped>\n",
       "    .dataframe tbody tr th:only-of-type {\n",
       "        vertical-align: middle;\n",
       "    }\n",
       "\n",
       "    .dataframe tbody tr th {\n",
       "        vertical-align: top;\n",
       "    }\n",
       "\n",
       "    .dataframe thead th {\n",
       "        text-align: right;\n",
       "    }\n",
       "</style>\n",
       "<table border=\"1\" class=\"dataframe\">\n",
       "  <thead>\n",
       "    <tr style=\"text-align: right;\">\n",
       "      <th></th>\n",
       "      <th></th>\n",
       "      <th></th>\n",
       "      <th>icd9_codes</th>\n",
       "    </tr>\n",
       "    <tr>\n",
       "      <th>subject_id</th>\n",
       "      <th>hadm_id</th>\n",
       "      <th>icustay_id</th>\n",
       "      <th></th>\n",
       "    </tr>\n",
       "  </thead>\n",
       "  <tbody>\n",
       "    <tr>\n",
       "      <th>27513</th>\n",
       "      <th>163557</th>\n",
       "      <th>200003</th>\n",
       "      <td>[0389, 70709, 5761, 9974, 99591, V1009]</td>\n",
       "    </tr>\n",
       "    <tr>\n",
       "      <th>20707</th>\n",
       "      <th>129310</th>\n",
       "      <th>200007</th>\n",
       "      <td>[41011, 9971, 42731, 41401, 4019, 2720, V173]</td>\n",
       "    </tr>\n",
       "    <tr>\n",
       "      <th>29904</th>\n",
       "      <th>129607</th>\n",
       "      <th>200009</th>\n",
       "      <td>[4240, 99811, 9998, 4019, 2859, V173]</td>\n",
       "    </tr>\n",
       "    <tr>\n",
       "      <th>9514</th>\n",
       "      <th>127229</th>\n",
       "      <th>200014</th>\n",
       "      <td>[4414, 41091, 4280, 49121, 53541, 5307, 41401,...</td>\n",
       "    </tr>\n",
       "    <tr>\n",
       "      <th>21789</th>\n",
       "      <th>112486</th>\n",
       "      <th>200019</th>\n",
       "      <td>[43411, 5070, 3485, 4019, 2720, 412, V707]</td>\n",
       "    </tr>\n",
       "  </tbody>\n",
       "</table>\n",
       "</div>"
      ],
      "text/plain": [
       "                                                                      icd9_codes\n",
       "subject_id hadm_id icustay_id                                                   \n",
       "27513      163557  200003                [0389, 70709, 5761, 9974, 99591, V1009]\n",
       "20707      129310  200007          [41011, 9971, 42731, 41401, 4019, 2720, V173]\n",
       "29904      129607  200009                  [4240, 99811, 9998, 4019, 2859, V173]\n",
       "9514       127229  200014      [4414, 41091, 4280, 49121, 53541, 5307, 41401,...\n",
       "21789      112486  200019             [43411, 5070, 3485, 4019, 2720, 412, V707]"
      ]
     },
     "execution_count": 357,
     "metadata": {},
     "output_type": "execute_result"
    }
   ],
   "source": [
    "d1.head()"
   ]
  },
  {
   "cell_type": "code",
   "execution_count": 358,
   "metadata": {},
   "outputs": [
    {
     "data": {
      "text/html": [
       "<div>\n",
       "<style scoped>\n",
       "    .dataframe tbody tr th:only-of-type {\n",
       "        vertical-align: middle;\n",
       "    }\n",
       "\n",
       "    .dataframe tbody tr th {\n",
       "        vertical-align: top;\n",
       "    }\n",
       "\n",
       "    .dataframe thead th {\n",
       "        text-align: right;\n",
       "    }\n",
       "</style>\n",
       "<table border=\"1\" class=\"dataframe\">\n",
       "  <thead>\n",
       "    <tr style=\"text-align: right;\">\n",
       "      <th></th>\n",
       "      <th></th>\n",
       "      <th></th>\n",
       "      <th>gender</th>\n",
       "      <th>ethnicity</th>\n",
       "      <th>age</th>\n",
       "      <th>insurance</th>\n",
       "      <th>admittime</th>\n",
       "      <th>diagnosis_at_admission</th>\n",
       "      <th>dischtime</th>\n",
       "      <th>discharge_location</th>\n",
       "      <th>fullcode_first</th>\n",
       "      <th>dnr_first</th>\n",
       "      <th>fullcode</th>\n",
       "      <th>dnr</th>\n",
       "      <th>dnr_first_charttime</th>\n",
       "      <th>timecmo_chart</th>\n",
       "      <th>cmo_first</th>\n",
       "      <th>cmo_last</th>\n",
       "      <th>cmo</th>\n",
       "      <th>deathtime</th>\n",
       "      <th>intime</th>\n",
       "      <th>outtime</th>\n",
       "      <th>los_icu</th>\n",
       "      <th>admission_type</th>\n",
       "      <th>first_careunit</th>\n",
       "      <th>mort_icu</th>\n",
       "      <th>mort_hosp</th>\n",
       "      <th>hospital_expire_flag</th>\n",
       "      <th>hospstay_seq</th>\n",
       "      <th>readmission_30</th>\n",
       "      <th>max_hours</th>\n",
       "      <th>icd9_codes</th>\n",
       "    </tr>\n",
       "    <tr>\n",
       "      <th>subject_id</th>\n",
       "      <th>hadm_id</th>\n",
       "      <th>icustay_id</th>\n",
       "      <th></th>\n",
       "      <th></th>\n",
       "      <th></th>\n",
       "      <th></th>\n",
       "      <th></th>\n",
       "      <th></th>\n",
       "      <th></th>\n",
       "      <th></th>\n",
       "      <th></th>\n",
       "      <th></th>\n",
       "      <th></th>\n",
       "      <th></th>\n",
       "      <th></th>\n",
       "      <th></th>\n",
       "      <th></th>\n",
       "      <th></th>\n",
       "      <th></th>\n",
       "      <th></th>\n",
       "      <th></th>\n",
       "      <th></th>\n",
       "      <th></th>\n",
       "      <th></th>\n",
       "      <th></th>\n",
       "      <th></th>\n",
       "      <th></th>\n",
       "      <th></th>\n",
       "      <th></th>\n",
       "      <th></th>\n",
       "      <th></th>\n",
       "      <th></th>\n",
       "    </tr>\n",
       "  </thead>\n",
       "  <tbody>\n",
       "    <tr>\n",
       "      <th>3</th>\n",
       "      <th>145834</th>\n",
       "      <th>211552</th>\n",
       "      <td>M</td>\n",
       "      <td>WHITE</td>\n",
       "      <td>76.526792</td>\n",
       "      <td>Medicare</td>\n",
       "      <td>2101-10-20 19:08:00</td>\n",
       "      <td>HYPOTENSION</td>\n",
       "      <td>2101-10-31 13:58:00</td>\n",
       "      <td>SNF</td>\n",
       "      <td>1.0</td>\n",
       "      <td>0.0</td>\n",
       "      <td>1.0</td>\n",
       "      <td>1.0</td>\n",
       "      <td>2101-10-20 22:00:00</td>\n",
       "      <td>NaT</td>\n",
       "      <td>0.0</td>\n",
       "      <td>0.0</td>\n",
       "      <td>0.0</td>\n",
       "      <td>NaT</td>\n",
       "      <td>2101-10-20 19:10:11</td>\n",
       "      <td>2101-10-26 20:43:09</td>\n",
       "      <td>6.064560</td>\n",
       "      <td>EMERGENCY</td>\n",
       "      <td>MICU</td>\n",
       "      <td>0.0</td>\n",
       "      <td>0.0</td>\n",
       "      <td>0.0</td>\n",
       "      <td>1.0</td>\n",
       "      <td>0.0</td>\n",
       "      <td>145.0</td>\n",
       "      <td>[0389, 78559, 5849, 4275, 41071, 4280, 6826, 4...</td>\n",
       "    </tr>\n",
       "    <tr>\n",
       "      <th>4</th>\n",
       "      <th>185777</th>\n",
       "      <th>294638</th>\n",
       "      <td>F</td>\n",
       "      <td>WHITE</td>\n",
       "      <td>47.845047</td>\n",
       "      <td>Private</td>\n",
       "      <td>2191-03-16 00:28:00</td>\n",
       "      <td>FEVER,DEHYDRATION,FAILURE TO THRIVE</td>\n",
       "      <td>2191-03-23 18:41:00</td>\n",
       "      <td>HOME WITH HOME IV PROVIDR</td>\n",
       "      <td>1.0</td>\n",
       "      <td>0.0</td>\n",
       "      <td>1.0</td>\n",
       "      <td>0.0</td>\n",
       "      <td>NaT</td>\n",
       "      <td>NaT</td>\n",
       "      <td>0.0</td>\n",
       "      <td>0.0</td>\n",
       "      <td>0.0</td>\n",
       "      <td>NaT</td>\n",
       "      <td>2191-03-16 00:29:31</td>\n",
       "      <td>2191-03-17 16:46:31</td>\n",
       "      <td>1.678472</td>\n",
       "      <td>EMERGENCY</td>\n",
       "      <td>MICU</td>\n",
       "      <td>0.0</td>\n",
       "      <td>0.0</td>\n",
       "      <td>0.0</td>\n",
       "      <td>1.0</td>\n",
       "      <td>0.0</td>\n",
       "      <td>40.0</td>\n",
       "      <td>[042, 1363, 7994, 2763, 7907, 5715, 04111, V09...</td>\n",
       "    </tr>\n",
       "    <tr>\n",
       "      <th>6</th>\n",
       "      <th>107064</th>\n",
       "      <th>228232</th>\n",
       "      <td>F</td>\n",
       "      <td>WHITE</td>\n",
       "      <td>65.942297</td>\n",
       "      <td>Medicare</td>\n",
       "      <td>2175-05-30 07:15:00</td>\n",
       "      <td>CHRONIC RENAL FAILURE/SDA</td>\n",
       "      <td>2175-06-15 16:00:00</td>\n",
       "      <td>HOME HEALTH CARE</td>\n",
       "      <td>1.0</td>\n",
       "      <td>0.0</td>\n",
       "      <td>1.0</td>\n",
       "      <td>0.0</td>\n",
       "      <td>NaT</td>\n",
       "      <td>NaT</td>\n",
       "      <td>0.0</td>\n",
       "      <td>0.0</td>\n",
       "      <td>0.0</td>\n",
       "      <td>NaT</td>\n",
       "      <td>2175-05-30 21:30:54</td>\n",
       "      <td>2175-06-03 13:39:54</td>\n",
       "      <td>3.672917</td>\n",
       "      <td>ELECTIVE</td>\n",
       "      <td>SICU</td>\n",
       "      <td>0.0</td>\n",
       "      <td>0.0</td>\n",
       "      <td>0.0</td>\n",
       "      <td>1.0</td>\n",
       "      <td>0.0</td>\n",
       "      <td>88.0</td>\n",
       "      <td>[40391, 4440, 9972, 2766, 2767, 2859, 2753, V1...</td>\n",
       "    </tr>\n",
       "    <tr>\n",
       "      <th>9</th>\n",
       "      <th>150750</th>\n",
       "      <th>220597</th>\n",
       "      <td>M</td>\n",
       "      <td>UNKNOWN/NOT SPECIFIED</td>\n",
       "      <td>41.790228</td>\n",
       "      <td>Medicaid</td>\n",
       "      <td>2149-11-09 13:06:00</td>\n",
       "      <td>HEMORRHAGIC CVA</td>\n",
       "      <td>2149-11-14 10:15:00</td>\n",
       "      <td>DEAD/EXPIRED</td>\n",
       "      <td>1.0</td>\n",
       "      <td>0.0</td>\n",
       "      <td>1.0</td>\n",
       "      <td>0.0</td>\n",
       "      <td>NaT</td>\n",
       "      <td>NaT</td>\n",
       "      <td>0.0</td>\n",
       "      <td>0.0</td>\n",
       "      <td>0.0</td>\n",
       "      <td>2149-11-14 10:15:00</td>\n",
       "      <td>2149-11-09 13:07:02</td>\n",
       "      <td>2149-11-14 20:52:14</td>\n",
       "      <td>5.323056</td>\n",
       "      <td>EMERGENCY</td>\n",
       "      <td>MICU</td>\n",
       "      <td>1.0</td>\n",
       "      <td>1.0</td>\n",
       "      <td>1.0</td>\n",
       "      <td>1.0</td>\n",
       "      <td>0.0</td>\n",
       "      <td>127.0</td>\n",
       "      <td>[431, 5070, 4280, 5849, 2765, 4019]</td>\n",
       "    </tr>\n",
       "    <tr>\n",
       "      <th>11</th>\n",
       "      <th>194540</th>\n",
       "      <th>229441</th>\n",
       "      <td>F</td>\n",
       "      <td>WHITE</td>\n",
       "      <td>50.148295</td>\n",
       "      <td>Private</td>\n",
       "      <td>2178-04-16 06:18:00</td>\n",
       "      <td>BRAIN MASS</td>\n",
       "      <td>2178-05-11 19:00:00</td>\n",
       "      <td>HOME HEALTH CARE</td>\n",
       "      <td>1.0</td>\n",
       "      <td>0.0</td>\n",
       "      <td>1.0</td>\n",
       "      <td>0.0</td>\n",
       "      <td>NaT</td>\n",
       "      <td>NaT</td>\n",
       "      <td>0.0</td>\n",
       "      <td>0.0</td>\n",
       "      <td>0.0</td>\n",
       "      <td>NaT</td>\n",
       "      <td>2178-04-16 06:19:32</td>\n",
       "      <td>2178-04-17 20:21:05</td>\n",
       "      <td>1.584410</td>\n",
       "      <td>EMERGENCY</td>\n",
       "      <td>SICU</td>\n",
       "      <td>0.0</td>\n",
       "      <td>0.0</td>\n",
       "      <td>0.0</td>\n",
       "      <td>1.0</td>\n",
       "      <td>0.0</td>\n",
       "      <td>38.0</td>\n",
       "      <td>[1913]</td>\n",
       "    </tr>\n",
       "  </tbody>\n",
       "</table>\n",
       "</div>"
      ],
      "text/plain": [
       "                              gender              ethnicity        age  \\\n",
       "subject_id hadm_id icustay_id                                            \n",
       "3          145834  211552          M                  WHITE  76.526792   \n",
       "4          185777  294638          F                  WHITE  47.845047   \n",
       "6          107064  228232          F                  WHITE  65.942297   \n",
       "9          150750  220597          M  UNKNOWN/NOT SPECIFIED  41.790228   \n",
       "11         194540  229441          F                  WHITE  50.148295   \n",
       "\n",
       "                              insurance           admittime  \\\n",
       "subject_id hadm_id icustay_id                                 \n",
       "3          145834  211552      Medicare 2101-10-20 19:08:00   \n",
       "4          185777  294638       Private 2191-03-16 00:28:00   \n",
       "6          107064  228232      Medicare 2175-05-30 07:15:00   \n",
       "9          150750  220597      Medicaid 2149-11-09 13:06:00   \n",
       "11         194540  229441       Private 2178-04-16 06:18:00   \n",
       "\n",
       "                                            diagnosis_at_admission  \\\n",
       "subject_id hadm_id icustay_id                                        \n",
       "3          145834  211552                              HYPOTENSION   \n",
       "4          185777  294638      FEVER,DEHYDRATION,FAILURE TO THRIVE   \n",
       "6          107064  228232                CHRONIC RENAL FAILURE/SDA   \n",
       "9          150750  220597                          HEMORRHAGIC CVA   \n",
       "11         194540  229441                               BRAIN MASS   \n",
       "\n",
       "                                        dischtime         discharge_location  \\\n",
       "subject_id hadm_id icustay_id                                                  \n",
       "3          145834  211552     2101-10-31 13:58:00                        SNF   \n",
       "4          185777  294638     2191-03-23 18:41:00  HOME WITH HOME IV PROVIDR   \n",
       "6          107064  228232     2175-06-15 16:00:00           HOME HEALTH CARE   \n",
       "9          150750  220597     2149-11-14 10:15:00               DEAD/EXPIRED   \n",
       "11         194540  229441     2178-05-11 19:00:00           HOME HEALTH CARE   \n",
       "\n",
       "                               fullcode_first  dnr_first  fullcode  dnr  \\\n",
       "subject_id hadm_id icustay_id                                             \n",
       "3          145834  211552                 1.0        0.0       1.0  1.0   \n",
       "4          185777  294638                 1.0        0.0       1.0  0.0   \n",
       "6          107064  228232                 1.0        0.0       1.0  0.0   \n",
       "9          150750  220597                 1.0        0.0       1.0  0.0   \n",
       "11         194540  229441                 1.0        0.0       1.0  0.0   \n",
       "\n",
       "                              dnr_first_charttime timecmo_chart  cmo_first  \\\n",
       "subject_id hadm_id icustay_id                                                \n",
       "3          145834  211552     2101-10-20 22:00:00           NaT        0.0   \n",
       "4          185777  294638                     NaT           NaT        0.0   \n",
       "6          107064  228232                     NaT           NaT        0.0   \n",
       "9          150750  220597                     NaT           NaT        0.0   \n",
       "11         194540  229441                     NaT           NaT        0.0   \n",
       "\n",
       "                               cmo_last  cmo           deathtime  \\\n",
       "subject_id hadm_id icustay_id                                      \n",
       "3          145834  211552           0.0  0.0                 NaT   \n",
       "4          185777  294638           0.0  0.0                 NaT   \n",
       "6          107064  228232           0.0  0.0                 NaT   \n",
       "9          150750  220597           0.0  0.0 2149-11-14 10:15:00   \n",
       "11         194540  229441           0.0  0.0                 NaT   \n",
       "\n",
       "                                           intime             outtime  \\\n",
       "subject_id hadm_id icustay_id                                           \n",
       "3          145834  211552     2101-10-20 19:10:11 2101-10-26 20:43:09   \n",
       "4          185777  294638     2191-03-16 00:29:31 2191-03-17 16:46:31   \n",
       "6          107064  228232     2175-05-30 21:30:54 2175-06-03 13:39:54   \n",
       "9          150750  220597     2149-11-09 13:07:02 2149-11-14 20:52:14   \n",
       "11         194540  229441     2178-04-16 06:19:32 2178-04-17 20:21:05   \n",
       "\n",
       "                                los_icu admission_type first_careunit  \\\n",
       "subject_id hadm_id icustay_id                                           \n",
       "3          145834  211552      6.064560      EMERGENCY           MICU   \n",
       "4          185777  294638      1.678472      EMERGENCY           MICU   \n",
       "6          107064  228232      3.672917       ELECTIVE           SICU   \n",
       "9          150750  220597      5.323056      EMERGENCY           MICU   \n",
       "11         194540  229441      1.584410      EMERGENCY           SICU   \n",
       "\n",
       "                               mort_icu  mort_hosp  hospital_expire_flag  \\\n",
       "subject_id hadm_id icustay_id                                              \n",
       "3          145834  211552           0.0        0.0                   0.0   \n",
       "4          185777  294638           0.0        0.0                   0.0   \n",
       "6          107064  228232           0.0        0.0                   0.0   \n",
       "9          150750  220597           1.0        1.0                   1.0   \n",
       "11         194540  229441           0.0        0.0                   0.0   \n",
       "\n",
       "                               hospstay_seq  readmission_30  max_hours  \\\n",
       "subject_id hadm_id icustay_id                                            \n",
       "3          145834  211552               1.0             0.0      145.0   \n",
       "4          185777  294638               1.0             0.0       40.0   \n",
       "6          107064  228232               1.0             0.0       88.0   \n",
       "9          150750  220597               1.0             0.0      127.0   \n",
       "11         194540  229441               1.0             0.0       38.0   \n",
       "\n",
       "                                                                      icd9_codes  \n",
       "subject_id hadm_id icustay_id                                                     \n",
       "3          145834  211552      [0389, 78559, 5849, 4275, 41071, 4280, 6826, 4...  \n",
       "4          185777  294638      [042, 1363, 7994, 2763, 7907, 5715, 04111, V09...  \n",
       "6          107064  228232      [40391, 4440, 9972, 2766, 2767, 2859, 2753, V1...  \n",
       "9          150750  220597                    [431, 5070, 4280, 5849, 2765, 4019]  \n",
       "11         194540  229441                                                 [1913]  "
      ]
     },
     "execution_count": 358,
     "metadata": {},
     "output_type": "execute_result"
    }
   ],
   "source": [
    "d7.head()"
   ]
  },
  {
   "cell_type": "code",
   "execution_count": 359,
   "metadata": {},
   "outputs": [
    {
     "data": {
      "text/plain": [
       "Index(['gender', 'ethnicity', 'age', 'insurance', 'admittime',\n",
       "       'diagnosis_at_admission', 'dischtime', 'discharge_location',\n",
       "       'fullcode_first', 'dnr_first', 'fullcode', 'dnr', 'dnr_first_charttime',\n",
       "       'timecmo_chart', 'cmo_first', 'cmo_last', 'cmo', 'deathtime', 'intime',\n",
       "       'outtime', 'los_icu', 'admission_type', 'first_careunit', 'mort_icu',\n",
       "       'mort_hosp', 'hospital_expire_flag', 'hospstay_seq', 'readmission_30',\n",
       "       'max_hours', 'icd9_codes'],\n",
       "      dtype='object')"
      ]
     },
     "execution_count": 359,
     "metadata": {},
     "output_type": "execute_result"
    }
   ],
   "source": [
    "d7.columns"
   ]
  },
  {
   "cell_type": "code",
   "execution_count": 360,
   "metadata": {},
   "outputs": [],
   "source": [
    "# Dropping all the columns except for the ones required for the model - \n",
    "# static features like gender, age, ethnicity, insurance, first_careunit and admission_type. \n",
    "# Also keep the label columns like mort_icu, mort_hosp\n",
    "d7 = d7[static_columns+[target]]\n",
    "#d7.drop(columns=['deathtime','intime','outtime','cmo','admittime','diagnosis_at_admission', 'dischtime','fullcode_first', 'dnr_first', 'fullcode', 'dnr', 'dnr_first_charttime','timecmo_chart', 'cmo_first', 'cmo_last'],inplace=True)"
   ]
  },
  {
   "cell_type": "code",
   "execution_count": 361,
   "metadata": {},
   "outputs": [
    {
     "name": "stdout",
     "output_type": "stream",
     "text": [
      "[M, F, NaN]\n",
      "Categories (2, object): [M, F]\n",
      "[WHITE, UNKNOWN/NOT SPECIFIED, PATIENT DECLINED TO ANSWER, BLACK/AFRICAN AMERICAN, ASIAN, ..., HISPANIC/LATINO - MEXICAN, ASIAN - KOREAN, AMERICAN INDIAN/ALASKA NATIVE FEDERALLY RECOGN..., ASIAN - JAPANESE, NaN]\n",
      "Length: 42\n",
      "Categories (41, object): [WHITE, UNKNOWN/NOT SPECIFIED, PATIENT DECLINED TO ANSWER, BLACK/AFRICAN AMERICAN, ..., HISPANIC/LATINO - MEXICAN, ASIAN - KOREAN, AMERICAN INDIAN/ALASKA NATIVE FEDERALLY RECOGN..., ASIAN - JAPANESE]\n",
      "['Medicare' 'Private' 'Medicaid' 'Government' 'Self Pay' nan]\n",
      "[EMERGENCY, ELECTIVE, URGENT, NaN]\n",
      "Categories (3, object): [EMERGENCY, ELECTIVE, URGENT]\n",
      "[MICU, SICU, CCU, CSRU, TSICU, NaN]\n",
      "Categories (5, object): [MICU, SICU, CCU, CSRU, TSICU]\n"
     ]
    }
   ],
   "source": [
    "# check the unique for each static column and make them in categories\n",
    "# use a category name for NaN or null values\n",
    "print(d7.gender.unique())\n",
    "print(d7.ethnicity.unique())\n",
    "print(d7.insurance.unique())\n",
    "print(d7.admission_type.unique())\n",
    "print(d7.first_careunit.unique())"
   ]
  },
  {
   "cell_type": "code",
   "execution_count": 362,
   "metadata": {},
   "outputs": [],
   "source": [
    "d7.ethnicity = d7.ethnicity.astype('str')\n",
    "d7.ethnicity.replace('nan','ethncity_nan',inplace=True)\n",
    "d7.gender = d7.gender.astype('str')\n",
    "d7.gender.replace('nan','gender_nan',inplace=True)\n",
    "d7.insurance = d7.insurance.astype('str')\n",
    "d7.insurance.replace('nan','insurance_nan',inplace=True)\n",
    "d7.admission_type = d7.admission_type.astype('str')\n",
    "d7.admission_type.replace('nan','admission_type_nan',inplace=True)\n",
    "d7.first_careunit = d7.first_careunit.astype('str')\n",
    "d7.first_careunit.replace('nan','ethncity_nan',inplace=True)"
   ]
  },
  {
   "cell_type": "code",
   "execution_count": 363,
   "metadata": {},
   "outputs": [
    {
     "name": "stderr",
     "output_type": "stream",
     "text": [
      "/Users/rishabhkhanna/miniconda3/lib/python3.8/site-packages/IPython/core/interactiveshell.py:2877: PerformanceWarning: indexing past lexsort depth may impact performance.\n",
      "  result = self._run_cell(\n"
     ]
    }
   ],
   "source": [
    "d7.ethnicity = d7.ethnicity.astype('str')\n",
    "d7.loc[d7['ethnicity'].str.contains('WHITE'), 'ethnicity']    = 'WHITE'\n",
    "d7.loc[d7['ethnicity'].str.contains('BLACK'), 'ethnicity']    = 'BLACK/AFRICAN AMERICAN'\n",
    "d7.loc[d7['ethnicity'].str.contains('ASIAN'), 'ethnicity']    = 'ASIAN'\n",
    "d7.loc[d7['ethnicity'].str.contains('HISPANIC'), 'ethnicity'] = 'HISPANIC/LATINO'\n",
    "d7.loc[d7['ethnicity'].str.contains('DECLINED'), 'ethnicity'] = 'OTHER/UNKNOWN'\n",
    "d7.loc[d7['ethnicity'].str.contains('MULTI'), 'ethnicity']    = 'OTHER/UNKNOWN'\n",
    "d7.loc[d7['ethnicity'].str.contains('UNKNOWN'), 'ethnicity']  = 'OTHER/UNKNOWN'\n",
    "d7.loc[d7['ethnicity'].str.contains('OTHER'), 'ethnicity']  = 'OTHER/UNKNOWN'\n",
    "d7.loc[d7['ethnicity'].str.contains('ethncity_nan'), 'ethnicity']  = 'OTHER/UNKNOWN'\n",
    "d7.loc[d7['ethnicity'].str.contains('UNABLE TO OBTAIN'), 'ethnicity']  = 'OTHER/UNKNOWN'"
   ]
  },
  {
   "cell_type": "code",
   "execution_count": 364,
   "metadata": {},
   "outputs": [
    {
     "name": "stdout",
     "output_type": "stream",
     "text": [
      "['M' 'F' 'gender_nan']\n",
      "['WHITE' 'OTHER/UNKNOWN' 'BLACK/AFRICAN AMERICAN' 'ASIAN'\n",
      " 'HISPANIC/LATINO' 'AMERICAN INDIAN/ALASKA NATIVE' 'PORTUGUESE'\n",
      " 'CARIBBEAN ISLAND' 'SOUTH AMERICAN' 'MIDDLE EASTERN'\n",
      " 'AMERICAN INDIAN/ALASKA NATIVE FEDERALLY RECOGNIZED TRIBE']\n",
      "['Medicare' 'Private' 'Medicaid' 'Government' 'Self Pay' 'insurance_nan']\n",
      "['EMERGENCY' 'ELECTIVE' 'URGENT' 'admission_type_nan']\n",
      "['MICU' 'SICU' 'CCU' 'CSRU' 'TSICU' 'ethncity_nan']\n"
     ]
    }
   ],
   "source": [
    "print(d7.gender.unique())\n",
    "print(d7.ethnicity.unique())\n",
    "print(d7.insurance.unique())\n",
    "print(d7.admission_type.unique())\n",
    "print(d7.first_careunit.unique())"
   ]
  },
  {
   "cell_type": "markdown",
   "metadata": {},
   "source": [
    "### Constructing Dictionaries, preparing labels and replacing the categorical values with dictionary integer values"
   ]
  },
  {
   "cell_type": "code",
   "execution_count": 365,
   "metadata": {},
   "outputs": [],
   "source": [
    "# removing the null labeled records\n",
    "d7 = d7[d7[target].notna()]"
   ]
  },
  {
   "cell_type": "code",
   "execution_count": 366,
   "metadata": {},
   "outputs": [],
   "source": [
    "# keep only the static columns\n",
    "static = d7[[i for i in static_columns if i != icd9]]\n",
    "#static = d7.drop(columns=['age','los_icu','mort_icu','mort_hosp','hospital_expire_flag','hospstay_seq','readmission_30','max_hours','icd9_codes','discharge_location'])"
   ]
  },
  {
   "cell_type": "code",
   "execution_count": 367,
   "metadata": {},
   "outputs": [
    {
     "data": {
      "text/html": [
       "<div>\n",
       "<style scoped>\n",
       "    .dataframe tbody tr th:only-of-type {\n",
       "        vertical-align: middle;\n",
       "    }\n",
       "\n",
       "    .dataframe tbody tr th {\n",
       "        vertical-align: top;\n",
       "    }\n",
       "\n",
       "    .dataframe thead th {\n",
       "        text-align: right;\n",
       "    }\n",
       "</style>\n",
       "<table border=\"1\" class=\"dataframe\">\n",
       "  <thead>\n",
       "    <tr style=\"text-align: right;\">\n",
       "      <th></th>\n",
       "      <th></th>\n",
       "      <th></th>\n",
       "      <th>gender</th>\n",
       "      <th>ethnicity</th>\n",
       "      <th>age</th>\n",
       "      <th>insurance</th>\n",
       "      <th>admission_type</th>\n",
       "      <th>first_careunit</th>\n",
       "    </tr>\n",
       "    <tr>\n",
       "      <th>subject_id</th>\n",
       "      <th>hadm_id</th>\n",
       "      <th>icustay_id</th>\n",
       "      <th></th>\n",
       "      <th></th>\n",
       "      <th></th>\n",
       "      <th></th>\n",
       "      <th></th>\n",
       "      <th></th>\n",
       "    </tr>\n",
       "  </thead>\n",
       "  <tbody>\n",
       "    <tr>\n",
       "      <th>3</th>\n",
       "      <th>145834</th>\n",
       "      <th>211552</th>\n",
       "      <td>M</td>\n",
       "      <td>WHITE</td>\n",
       "      <td>76.526792</td>\n",
       "      <td>Medicare</td>\n",
       "      <td>EMERGENCY</td>\n",
       "      <td>MICU</td>\n",
       "    </tr>\n",
       "    <tr>\n",
       "      <th>4</th>\n",
       "      <th>185777</th>\n",
       "      <th>294638</th>\n",
       "      <td>F</td>\n",
       "      <td>WHITE</td>\n",
       "      <td>47.845047</td>\n",
       "      <td>Private</td>\n",
       "      <td>EMERGENCY</td>\n",
       "      <td>MICU</td>\n",
       "    </tr>\n",
       "    <tr>\n",
       "      <th>6</th>\n",
       "      <th>107064</th>\n",
       "      <th>228232</th>\n",
       "      <td>F</td>\n",
       "      <td>WHITE</td>\n",
       "      <td>65.942297</td>\n",
       "      <td>Medicare</td>\n",
       "      <td>ELECTIVE</td>\n",
       "      <td>SICU</td>\n",
       "    </tr>\n",
       "    <tr>\n",
       "      <th>9</th>\n",
       "      <th>150750</th>\n",
       "      <th>220597</th>\n",
       "      <td>M</td>\n",
       "      <td>OTHER/UNKNOWN</td>\n",
       "      <td>41.790228</td>\n",
       "      <td>Medicaid</td>\n",
       "      <td>EMERGENCY</td>\n",
       "      <td>MICU</td>\n",
       "    </tr>\n",
       "    <tr>\n",
       "      <th>11</th>\n",
       "      <th>194540</th>\n",
       "      <th>229441</th>\n",
       "      <td>F</td>\n",
       "      <td>WHITE</td>\n",
       "      <td>50.148295</td>\n",
       "      <td>Private</td>\n",
       "      <td>EMERGENCY</td>\n",
       "      <td>SICU</td>\n",
       "    </tr>\n",
       "  </tbody>\n",
       "</table>\n",
       "</div>"
      ],
      "text/plain": [
       "                              gender      ethnicity        age insurance  \\\n",
       "subject_id hadm_id icustay_id                                              \n",
       "3          145834  211552          M          WHITE  76.526792  Medicare   \n",
       "4          185777  294638          F          WHITE  47.845047   Private   \n",
       "6          107064  228232          F          WHITE  65.942297  Medicare   \n",
       "9          150750  220597          M  OTHER/UNKNOWN  41.790228  Medicaid   \n",
       "11         194540  229441          F          WHITE  50.148295   Private   \n",
       "\n",
       "                              admission_type first_careunit  \n",
       "subject_id hadm_id icustay_id                                \n",
       "3          145834  211552          EMERGENCY           MICU  \n",
       "4          185777  294638          EMERGENCY           MICU  \n",
       "6          107064  228232           ELECTIVE           SICU  \n",
       "9          150750  220597          EMERGENCY           MICU  \n",
       "11         194540  229441          EMERGENCY           SICU  "
      ]
     },
     "execution_count": 367,
     "metadata": {},
     "output_type": "execute_result"
    }
   ],
   "source": [
    "static.head()"
   ]
  },
  {
   "cell_type": "code",
   "execution_count": 368,
   "metadata": {},
   "outputs": [],
   "source": [
    "# convert static columns into unique keys for dictionary\n",
    "static_dict_keys = list(static.first_careunit.unique())+list(static.gender.unique())+list(static.insurance.unique())+list(static.admission_type.unique())+list(static.ethnicity.unique())"
   ]
  },
  {
   "cell_type": "code",
   "execution_count": 369,
   "metadata": {},
   "outputs": [],
   "source": [
    "static_dict = {}\n",
    "counter = 1\n",
    "for k in static_dict_keys:\n",
    "    static_dict[k] = counter\n",
    "    counter += 1"
   ]
  },
  {
   "cell_type": "code",
   "execution_count": 370,
   "metadata": {},
   "outputs": [],
   "source": [
    "d7.insurance = d7.insurance.astype('str')\n",
    "for k in list(static.insurance.unique()):\n",
    "    d7.loc[d7['insurance'].str.contains(k,na=False), 'insurance']    = static_dict[k]"
   ]
  },
  {
   "cell_type": "code",
   "execution_count": 371,
   "metadata": {},
   "outputs": [],
   "source": [
    "d7.admission_type = d7.admission_type.astype('str')\n",
    "for k in list(static.admission_type.unique()):\n",
    "    d7.loc[d7['admission_type'].str.contains(k,na=False), 'admission_type']    = static_dict[k]"
   ]
  },
  {
   "cell_type": "code",
   "execution_count": 372,
   "metadata": {},
   "outputs": [
    {
     "ename": "AttributeError",
     "evalue": "Can only use .str accessor with string values, which use np.object_ dtype in pandas",
     "output_type": "error",
     "traceback": [
      "\u001b[0;31m---------------------------------------------------------------------------\u001b[0m",
      "\u001b[0;31mAttributeError\u001b[0m                            Traceback (most recent call last)",
      "\u001b[0;32m<ipython-input-372-05398aeff017>\u001b[0m in \u001b[0;36m<module>\u001b[0;34m\u001b[0m\n\u001b[1;32m      1\u001b[0m \u001b[0md7\u001b[0m\u001b[0;34m.\u001b[0m\u001b[0mfirst_careunit\u001b[0m \u001b[0;34m=\u001b[0m \u001b[0md7\u001b[0m\u001b[0;34m.\u001b[0m\u001b[0mfirst_careunit\u001b[0m\u001b[0;34m.\u001b[0m\u001b[0mastype\u001b[0m\u001b[0;34m(\u001b[0m\u001b[0;34m'str'\u001b[0m\u001b[0;34m)\u001b[0m\u001b[0;34m\u001b[0m\u001b[0;34m\u001b[0m\u001b[0m\n\u001b[1;32m      2\u001b[0m \u001b[0;32mfor\u001b[0m \u001b[0mk\u001b[0m \u001b[0;32min\u001b[0m \u001b[0mlist\u001b[0m\u001b[0;34m(\u001b[0m\u001b[0mstatic\u001b[0m\u001b[0;34m.\u001b[0m\u001b[0mfirst_careunit\u001b[0m\u001b[0;34m.\u001b[0m\u001b[0munique\u001b[0m\u001b[0;34m(\u001b[0m\u001b[0;34m)\u001b[0m\u001b[0;34m)\u001b[0m\u001b[0;34m:\u001b[0m\u001b[0;34m\u001b[0m\u001b[0;34m\u001b[0m\u001b[0m\n\u001b[0;32m----> 3\u001b[0;31m     \u001b[0md7\u001b[0m\u001b[0;34m.\u001b[0m\u001b[0mloc\u001b[0m\u001b[0;34m[\u001b[0m\u001b[0md7\u001b[0m\u001b[0;34m[\u001b[0m\u001b[0;34m'first_careunit'\u001b[0m\u001b[0;34m]\u001b[0m\u001b[0;34m.\u001b[0m\u001b[0mstr\u001b[0m\u001b[0;34m.\u001b[0m\u001b[0mcontains\u001b[0m\u001b[0;34m(\u001b[0m\u001b[0mk\u001b[0m\u001b[0;34m,\u001b[0m\u001b[0mna\u001b[0m\u001b[0;34m=\u001b[0m\u001b[0;32mFalse\u001b[0m\u001b[0;34m)\u001b[0m\u001b[0;34m,\u001b[0m \u001b[0;34m'first_careunit'\u001b[0m\u001b[0;34m]\u001b[0m    \u001b[0;34m=\u001b[0m \u001b[0mstatic_dict\u001b[0m\u001b[0;34m[\u001b[0m\u001b[0mk\u001b[0m\u001b[0;34m]\u001b[0m\u001b[0;34m\u001b[0m\u001b[0;34m\u001b[0m\u001b[0m\n\u001b[0m",
      "\u001b[0;32m~/miniconda3/lib/python3.8/site-packages/pandas/core/generic.py\u001b[0m in \u001b[0;36m__getattr__\u001b[0;34m(self, name)\u001b[0m\n\u001b[1;32m   5061\u001b[0m         if (name in self._internal_names_set or name in self._metadata or\n\u001b[1;32m   5062\u001b[0m                 name in self._accessors):\n\u001b[0;32m-> 5063\u001b[0;31m             \u001b[0;32mreturn\u001b[0m \u001b[0mobject\u001b[0m\u001b[0;34m.\u001b[0m\u001b[0m__getattribute__\u001b[0m\u001b[0;34m(\u001b[0m\u001b[0mself\u001b[0m\u001b[0;34m,\u001b[0m \u001b[0mname\u001b[0m\u001b[0;34m)\u001b[0m\u001b[0;34m\u001b[0m\u001b[0;34m\u001b[0m\u001b[0m\n\u001b[0m\u001b[1;32m   5064\u001b[0m         \u001b[0;32melse\u001b[0m\u001b[0;34m:\u001b[0m\u001b[0;34m\u001b[0m\u001b[0;34m\u001b[0m\u001b[0m\n\u001b[1;32m   5065\u001b[0m             \u001b[0;32mif\u001b[0m \u001b[0mself\u001b[0m\u001b[0;34m.\u001b[0m\u001b[0m_info_axis\u001b[0m\u001b[0;34m.\u001b[0m\u001b[0m_can_hold_identifiers_and_holds_name\u001b[0m\u001b[0;34m(\u001b[0m\u001b[0mname\u001b[0m\u001b[0;34m)\u001b[0m\u001b[0;34m:\u001b[0m\u001b[0;34m\u001b[0m\u001b[0;34m\u001b[0m\u001b[0m\n",
      "\u001b[0;32m~/miniconda3/lib/python3.8/site-packages/pandas/core/accessor.py\u001b[0m in \u001b[0;36m__get__\u001b[0;34m(self, obj, cls)\u001b[0m\n\u001b[1;32m    169\u001b[0m             \u001b[0;31m# we're accessing the attribute of the class, i.e., Dataset.geo\u001b[0m\u001b[0;34m\u001b[0m\u001b[0;34m\u001b[0m\u001b[0;34m\u001b[0m\u001b[0m\n\u001b[1;32m    170\u001b[0m             \u001b[0;32mreturn\u001b[0m \u001b[0mself\u001b[0m\u001b[0;34m.\u001b[0m\u001b[0m_accessor\u001b[0m\u001b[0;34m\u001b[0m\u001b[0;34m\u001b[0m\u001b[0m\n\u001b[0;32m--> 171\u001b[0;31m         \u001b[0maccessor_obj\u001b[0m \u001b[0;34m=\u001b[0m \u001b[0mself\u001b[0m\u001b[0;34m.\u001b[0m\u001b[0m_accessor\u001b[0m\u001b[0;34m(\u001b[0m\u001b[0mobj\u001b[0m\u001b[0;34m)\u001b[0m\u001b[0;34m\u001b[0m\u001b[0;34m\u001b[0m\u001b[0m\n\u001b[0m\u001b[1;32m    172\u001b[0m         \u001b[0;31m# Replace the property with the accessor object. Inspired by:\u001b[0m\u001b[0;34m\u001b[0m\u001b[0;34m\u001b[0m\u001b[0;34m\u001b[0m\u001b[0m\n\u001b[1;32m    173\u001b[0m         \u001b[0;31m# http://www.pydanny.com/cached-property.html\u001b[0m\u001b[0;34m\u001b[0m\u001b[0;34m\u001b[0m\u001b[0;34m\u001b[0m\u001b[0m\n",
      "\u001b[0;32m~/miniconda3/lib/python3.8/site-packages/pandas/core/strings.py\u001b[0m in \u001b[0;36m__init__\u001b[0;34m(self, data)\u001b[0m\n\u001b[1;32m   1794\u001b[0m \u001b[0;34m\u001b[0m\u001b[0m\n\u001b[1;32m   1795\u001b[0m     \u001b[0;32mdef\u001b[0m \u001b[0m__init__\u001b[0m\u001b[0;34m(\u001b[0m\u001b[0mself\u001b[0m\u001b[0;34m,\u001b[0m \u001b[0mdata\u001b[0m\u001b[0;34m)\u001b[0m\u001b[0;34m:\u001b[0m\u001b[0;34m\u001b[0m\u001b[0;34m\u001b[0m\u001b[0m\n\u001b[0;32m-> 1796\u001b[0;31m         \u001b[0mself\u001b[0m\u001b[0;34m.\u001b[0m\u001b[0m_validate\u001b[0m\u001b[0;34m(\u001b[0m\u001b[0mdata\u001b[0m\u001b[0;34m)\u001b[0m\u001b[0;34m\u001b[0m\u001b[0;34m\u001b[0m\u001b[0m\n\u001b[0m\u001b[1;32m   1797\u001b[0m         \u001b[0mself\u001b[0m\u001b[0;34m.\u001b[0m\u001b[0m_is_categorical\u001b[0m \u001b[0;34m=\u001b[0m \u001b[0mis_categorical_dtype\u001b[0m\u001b[0;34m(\u001b[0m\u001b[0mdata\u001b[0m\u001b[0;34m)\u001b[0m\u001b[0;34m\u001b[0m\u001b[0;34m\u001b[0m\u001b[0m\n\u001b[1;32m   1798\u001b[0m \u001b[0;34m\u001b[0m\u001b[0m\n",
      "\u001b[0;32m~/miniconda3/lib/python3.8/site-packages/pandas/core/strings.py\u001b[0m in \u001b[0;36m_validate\u001b[0;34m(data)\u001b[0m\n\u001b[1;32m   1816\u001b[0m             \u001b[0;31m# (instead of test for object dtype), but that isn't practical for\u001b[0m\u001b[0;34m\u001b[0m\u001b[0;34m\u001b[0m\u001b[0;34m\u001b[0m\u001b[0m\n\u001b[1;32m   1817\u001b[0m             \u001b[0;31m# performance reasons until we have a str dtype (GH 9343)\u001b[0m\u001b[0;34m\u001b[0m\u001b[0;34m\u001b[0m\u001b[0;34m\u001b[0m\u001b[0m\n\u001b[0;32m-> 1818\u001b[0;31m             raise AttributeError(\"Can only use .str accessor with string \"\n\u001b[0m\u001b[1;32m   1819\u001b[0m                                  \u001b[0;34m\"values, which use np.object_ dtype in \"\u001b[0m\u001b[0;34m\u001b[0m\u001b[0;34m\u001b[0m\u001b[0m\n\u001b[1;32m   1820\u001b[0m                                  \"pandas\")\n",
      "\u001b[0;31mAttributeError\u001b[0m: Can only use .str accessor with string values, which use np.object_ dtype in pandas"
     ]
    }
   ],
   "source": [
    "d7.first_careunit = d7.first_careunit.astype('str')\n",
    "for k in list(static.first_careunit.unique()):\n",
    "    d7.loc[d7['first_careunit'].str.contains(k,na=False), 'first_careunit']    = static_dict[k]"
   ]
  },
  {
   "cell_type": "code",
   "execution_count": 373,
   "metadata": {},
   "outputs": [
    {
     "ename": "AttributeError",
     "evalue": "Can only use .str accessor with string values, which use np.object_ dtype in pandas",
     "output_type": "error",
     "traceback": [
      "\u001b[0;31m---------------------------------------------------------------------------\u001b[0m",
      "\u001b[0;31mAttributeError\u001b[0m                            Traceback (most recent call last)",
      "\u001b[0;32m<ipython-input-373-846565bcb4ee>\u001b[0m in \u001b[0;36m<module>\u001b[0;34m\u001b[0m\n\u001b[1;32m      1\u001b[0m \u001b[0md7\u001b[0m\u001b[0;34m.\u001b[0m\u001b[0methnicity\u001b[0m \u001b[0;34m=\u001b[0m \u001b[0md7\u001b[0m\u001b[0;34m.\u001b[0m\u001b[0methnicity\u001b[0m\u001b[0;34m.\u001b[0m\u001b[0mastype\u001b[0m\u001b[0;34m(\u001b[0m\u001b[0;34m'str'\u001b[0m\u001b[0;34m)\u001b[0m\u001b[0;34m\u001b[0m\u001b[0;34m\u001b[0m\u001b[0m\n\u001b[1;32m      2\u001b[0m \u001b[0;32mfor\u001b[0m \u001b[0mk\u001b[0m \u001b[0;32min\u001b[0m \u001b[0mlist\u001b[0m\u001b[0;34m(\u001b[0m\u001b[0mstatic\u001b[0m\u001b[0;34m.\u001b[0m\u001b[0methnicity\u001b[0m\u001b[0;34m.\u001b[0m\u001b[0munique\u001b[0m\u001b[0;34m(\u001b[0m\u001b[0;34m)\u001b[0m\u001b[0;34m)\u001b[0m\u001b[0;34m:\u001b[0m\u001b[0;34m\u001b[0m\u001b[0;34m\u001b[0m\u001b[0m\n\u001b[0;32m----> 3\u001b[0;31m     \u001b[0md7\u001b[0m\u001b[0;34m.\u001b[0m\u001b[0mloc\u001b[0m\u001b[0;34m[\u001b[0m\u001b[0md7\u001b[0m\u001b[0;34m[\u001b[0m\u001b[0;34m'ethnicity'\u001b[0m\u001b[0;34m]\u001b[0m\u001b[0;34m.\u001b[0m\u001b[0mstr\u001b[0m\u001b[0;34m.\u001b[0m\u001b[0mcontains\u001b[0m\u001b[0;34m(\u001b[0m\u001b[0mk\u001b[0m\u001b[0;34m,\u001b[0m\u001b[0mna\u001b[0m\u001b[0;34m=\u001b[0m\u001b[0;32mFalse\u001b[0m\u001b[0;34m)\u001b[0m\u001b[0;34m,\u001b[0m \u001b[0;34m'ethnicity'\u001b[0m\u001b[0;34m]\u001b[0m    \u001b[0;34m=\u001b[0m \u001b[0mstatic_dict\u001b[0m\u001b[0;34m[\u001b[0m\u001b[0mk\u001b[0m\u001b[0;34m]\u001b[0m\u001b[0;34m\u001b[0m\u001b[0;34m\u001b[0m\u001b[0m\n\u001b[0m",
      "\u001b[0;32m~/miniconda3/lib/python3.8/site-packages/pandas/core/generic.py\u001b[0m in \u001b[0;36m__getattr__\u001b[0;34m(self, name)\u001b[0m\n\u001b[1;32m   5061\u001b[0m         if (name in self._internal_names_set or name in self._metadata or\n\u001b[1;32m   5062\u001b[0m                 name in self._accessors):\n\u001b[0;32m-> 5063\u001b[0;31m             \u001b[0;32mreturn\u001b[0m \u001b[0mobject\u001b[0m\u001b[0;34m.\u001b[0m\u001b[0m__getattribute__\u001b[0m\u001b[0;34m(\u001b[0m\u001b[0mself\u001b[0m\u001b[0;34m,\u001b[0m \u001b[0mname\u001b[0m\u001b[0;34m)\u001b[0m\u001b[0;34m\u001b[0m\u001b[0;34m\u001b[0m\u001b[0m\n\u001b[0m\u001b[1;32m   5064\u001b[0m         \u001b[0;32melse\u001b[0m\u001b[0;34m:\u001b[0m\u001b[0;34m\u001b[0m\u001b[0;34m\u001b[0m\u001b[0m\n\u001b[1;32m   5065\u001b[0m             \u001b[0;32mif\u001b[0m \u001b[0mself\u001b[0m\u001b[0;34m.\u001b[0m\u001b[0m_info_axis\u001b[0m\u001b[0;34m.\u001b[0m\u001b[0m_can_hold_identifiers_and_holds_name\u001b[0m\u001b[0;34m(\u001b[0m\u001b[0mname\u001b[0m\u001b[0;34m)\u001b[0m\u001b[0;34m:\u001b[0m\u001b[0;34m\u001b[0m\u001b[0;34m\u001b[0m\u001b[0m\n",
      "\u001b[0;32m~/miniconda3/lib/python3.8/site-packages/pandas/core/accessor.py\u001b[0m in \u001b[0;36m__get__\u001b[0;34m(self, obj, cls)\u001b[0m\n\u001b[1;32m    169\u001b[0m             \u001b[0;31m# we're accessing the attribute of the class, i.e., Dataset.geo\u001b[0m\u001b[0;34m\u001b[0m\u001b[0;34m\u001b[0m\u001b[0;34m\u001b[0m\u001b[0m\n\u001b[1;32m    170\u001b[0m             \u001b[0;32mreturn\u001b[0m \u001b[0mself\u001b[0m\u001b[0;34m.\u001b[0m\u001b[0m_accessor\u001b[0m\u001b[0;34m\u001b[0m\u001b[0;34m\u001b[0m\u001b[0m\n\u001b[0;32m--> 171\u001b[0;31m         \u001b[0maccessor_obj\u001b[0m \u001b[0;34m=\u001b[0m \u001b[0mself\u001b[0m\u001b[0;34m.\u001b[0m\u001b[0m_accessor\u001b[0m\u001b[0;34m(\u001b[0m\u001b[0mobj\u001b[0m\u001b[0;34m)\u001b[0m\u001b[0;34m\u001b[0m\u001b[0;34m\u001b[0m\u001b[0m\n\u001b[0m\u001b[1;32m    172\u001b[0m         \u001b[0;31m# Replace the property with the accessor object. Inspired by:\u001b[0m\u001b[0;34m\u001b[0m\u001b[0;34m\u001b[0m\u001b[0;34m\u001b[0m\u001b[0m\n\u001b[1;32m    173\u001b[0m         \u001b[0;31m# http://www.pydanny.com/cached-property.html\u001b[0m\u001b[0;34m\u001b[0m\u001b[0;34m\u001b[0m\u001b[0;34m\u001b[0m\u001b[0m\n",
      "\u001b[0;32m~/miniconda3/lib/python3.8/site-packages/pandas/core/strings.py\u001b[0m in \u001b[0;36m__init__\u001b[0;34m(self, data)\u001b[0m\n\u001b[1;32m   1794\u001b[0m \u001b[0;34m\u001b[0m\u001b[0m\n\u001b[1;32m   1795\u001b[0m     \u001b[0;32mdef\u001b[0m \u001b[0m__init__\u001b[0m\u001b[0;34m(\u001b[0m\u001b[0mself\u001b[0m\u001b[0;34m,\u001b[0m \u001b[0mdata\u001b[0m\u001b[0;34m)\u001b[0m\u001b[0;34m:\u001b[0m\u001b[0;34m\u001b[0m\u001b[0;34m\u001b[0m\u001b[0m\n\u001b[0;32m-> 1796\u001b[0;31m         \u001b[0mself\u001b[0m\u001b[0;34m.\u001b[0m\u001b[0m_validate\u001b[0m\u001b[0;34m(\u001b[0m\u001b[0mdata\u001b[0m\u001b[0;34m)\u001b[0m\u001b[0;34m\u001b[0m\u001b[0;34m\u001b[0m\u001b[0m\n\u001b[0m\u001b[1;32m   1797\u001b[0m         \u001b[0mself\u001b[0m\u001b[0;34m.\u001b[0m\u001b[0m_is_categorical\u001b[0m \u001b[0;34m=\u001b[0m \u001b[0mis_categorical_dtype\u001b[0m\u001b[0;34m(\u001b[0m\u001b[0mdata\u001b[0m\u001b[0;34m)\u001b[0m\u001b[0;34m\u001b[0m\u001b[0;34m\u001b[0m\u001b[0m\n\u001b[1;32m   1798\u001b[0m \u001b[0;34m\u001b[0m\u001b[0m\n",
      "\u001b[0;32m~/miniconda3/lib/python3.8/site-packages/pandas/core/strings.py\u001b[0m in \u001b[0;36m_validate\u001b[0;34m(data)\u001b[0m\n\u001b[1;32m   1816\u001b[0m             \u001b[0;31m# (instead of test for object dtype), but that isn't practical for\u001b[0m\u001b[0;34m\u001b[0m\u001b[0;34m\u001b[0m\u001b[0;34m\u001b[0m\u001b[0m\n\u001b[1;32m   1817\u001b[0m             \u001b[0;31m# performance reasons until we have a str dtype (GH 9343)\u001b[0m\u001b[0;34m\u001b[0m\u001b[0;34m\u001b[0m\u001b[0;34m\u001b[0m\u001b[0m\n\u001b[0;32m-> 1818\u001b[0;31m             raise AttributeError(\"Can only use .str accessor with string \"\n\u001b[0m\u001b[1;32m   1819\u001b[0m                                  \u001b[0;34m\"values, which use np.object_ dtype in \"\u001b[0m\u001b[0;34m\u001b[0m\u001b[0;34m\u001b[0m\u001b[0m\n\u001b[1;32m   1820\u001b[0m                                  \"pandas\")\n",
      "\u001b[0;31mAttributeError\u001b[0m: Can only use .str accessor with string values, which use np.object_ dtype in pandas"
     ]
    }
   ],
   "source": [
    "d7.ethnicity = d7.ethnicity.astype('str')\n",
    "for k in list(static.ethnicity.unique()):\n",
    "    d7.loc[d7['ethnicity'].str.contains(k,na=False), 'ethnicity']    = static_dict[k]"
   ]
  },
  {
   "cell_type": "code",
   "execution_count": 374,
   "metadata": {},
   "outputs": [],
   "source": [
    "d7.gender = d7.gender.astype('str')\n",
    "for k in list(static.gender.unique()):\n",
    "    d7.loc[d7['gender'].str.contains(k,na=False), 'gender']    = static_dict[k]"
   ]
  },
  {
   "cell_type": "code",
   "execution_count": 375,
   "metadata": {},
   "outputs": [],
   "source": [
    "# keep only the static columns\n",
    "static = d7[[i for i in static_columns if i != icd9]]\n",
    "#static = d7.drop(columns=['age','los_icu','mort_icu','mort_hosp','hospital_expire_flag','hospstay_seq','readmission_30','max_hours','icd9_codes','discharge_location'])"
   ]
  },
  {
   "cell_type": "code",
   "execution_count": 376,
   "metadata": {},
   "outputs": [
    {
     "data": {
      "text/html": [
       "<div>\n",
       "<style scoped>\n",
       "    .dataframe tbody tr th:only-of-type {\n",
       "        vertical-align: middle;\n",
       "    }\n",
       "\n",
       "    .dataframe tbody tr th {\n",
       "        vertical-align: top;\n",
       "    }\n",
       "\n",
       "    .dataframe thead th {\n",
       "        text-align: right;\n",
       "    }\n",
       "</style>\n",
       "<table border=\"1\" class=\"dataframe\">\n",
       "  <thead>\n",
       "    <tr style=\"text-align: right;\">\n",
       "      <th></th>\n",
       "      <th></th>\n",
       "      <th></th>\n",
       "      <th>gender</th>\n",
       "      <th>ethnicity</th>\n",
       "      <th>age</th>\n",
       "      <th>insurance</th>\n",
       "      <th>admission_type</th>\n",
       "      <th>first_careunit</th>\n",
       "    </tr>\n",
       "    <tr>\n",
       "      <th>subject_id</th>\n",
       "      <th>hadm_id</th>\n",
       "      <th>icustay_id</th>\n",
       "      <th></th>\n",
       "      <th></th>\n",
       "      <th></th>\n",
       "      <th></th>\n",
       "      <th></th>\n",
       "      <th></th>\n",
       "    </tr>\n",
       "  </thead>\n",
       "  <tbody>\n",
       "    <tr>\n",
       "      <th>3</th>\n",
       "      <th>145834</th>\n",
       "      <th>211552</th>\n",
       "      <td>6</td>\n",
       "      <td>16</td>\n",
       "      <td>76.526792</td>\n",
       "      <td>8</td>\n",
       "      <td>13</td>\n",
       "      <td>1</td>\n",
       "    </tr>\n",
       "    <tr>\n",
       "      <th>4</th>\n",
       "      <th>185777</th>\n",
       "      <th>294638</th>\n",
       "      <td>7</td>\n",
       "      <td>16</td>\n",
       "      <td>47.845047</td>\n",
       "      <td>9</td>\n",
       "      <td>13</td>\n",
       "      <td>1</td>\n",
       "    </tr>\n",
       "    <tr>\n",
       "      <th>6</th>\n",
       "      <th>107064</th>\n",
       "      <th>228232</th>\n",
       "      <td>7</td>\n",
       "      <td>16</td>\n",
       "      <td>65.942297</td>\n",
       "      <td>8</td>\n",
       "      <td>14</td>\n",
       "      <td>2</td>\n",
       "    </tr>\n",
       "    <tr>\n",
       "      <th>9</th>\n",
       "      <th>150750</th>\n",
       "      <th>220597</th>\n",
       "      <td>6</td>\n",
       "      <td>17</td>\n",
       "      <td>41.790228</td>\n",
       "      <td>10</td>\n",
       "      <td>13</td>\n",
       "      <td>1</td>\n",
       "    </tr>\n",
       "    <tr>\n",
       "      <th>11</th>\n",
       "      <th>194540</th>\n",
       "      <th>229441</th>\n",
       "      <td>7</td>\n",
       "      <td>16</td>\n",
       "      <td>50.148295</td>\n",
       "      <td>9</td>\n",
       "      <td>13</td>\n",
       "      <td>2</td>\n",
       "    </tr>\n",
       "  </tbody>\n",
       "</table>\n",
       "</div>"
      ],
      "text/plain": [
       "                               gender  ethnicity        age  insurance  \\\n",
       "subject_id hadm_id icustay_id                                            \n",
       "3          145834  211552           6         16  76.526792          8   \n",
       "4          185777  294638           7         16  47.845047          9   \n",
       "6          107064  228232           7         16  65.942297          8   \n",
       "9          150750  220597           6         17  41.790228         10   \n",
       "11         194540  229441           7         16  50.148295          9   \n",
       "\n",
       "                               admission_type  first_careunit  \n",
       "subject_id hadm_id icustay_id                                  \n",
       "3          145834  211552                  13               1  \n",
       "4          185777  294638                  13               1  \n",
       "6          107064  228232                  14               2  \n",
       "9          150750  220597                  13               1  \n",
       "11         194540  229441                  13               2  "
      ]
     },
     "execution_count": 376,
     "metadata": {},
     "output_type": "execute_result"
    }
   ],
   "source": [
    "static.head()"
   ]
  },
  {
   "cell_type": "code",
   "execution_count": 377,
   "metadata": {},
   "outputs": [],
   "source": [
    "icd9_code_dict = {}\n",
    "for k in np.concatenate(d7[icd9].to_numpy()):\n",
    "    if k not in icd9_code_dict:\n",
    "        icd9_code_dict[k] = counter\n",
    "        counter += 1"
   ]
  },
  {
   "cell_type": "code",
   "execution_count": 378,
   "metadata": {},
   "outputs": [
    {
     "data": {
      "text/plain": [
       "6040"
      ]
     },
     "execution_count": 378,
     "metadata": {},
     "output_type": "execute_result"
    }
   ],
   "source": [
    "len(icd9_code_dict)"
   ]
  },
  {
   "cell_type": "code",
   "execution_count": 379,
   "metadata": {},
   "outputs": [],
   "source": [
    "class dummy:\n",
    "    max_codes = 0\n",
    "    def get_max(self,a):\n",
    "        self.max_codes = max(self.max_codes, len(a))\n",
    "        return a\n",
    "def get_val(a,max_codes):\n",
    "    for i in range(len(a)):\n",
    "        a[i] = icd9_code_dict[str(a[i])]\n",
    "    a = a + [0]*(max_codes-len(a))\n",
    "    return a"
   ]
  },
  {
   "cell_type": "code",
   "execution_count": 380,
   "metadata": {},
   "outputs": [],
   "source": [
    "# flattening the list of icd9 codes and replacing the values in dataset with integer values from dictionary\n",
    "obj = dummy()\n",
    "d7[icd9] = d7[icd9].apply(lambda x: obj.get_max(x))\n",
    "d7[icd9] = d7[icd9].apply(lambda x: (get_val(x,obj.max_codes),x))"
   ]
  },
  {
   "cell_type": "code",
   "execution_count": 381,
   "metadata": {},
   "outputs": [],
   "source": [
    "d7[icd9] = d7[icd9].apply(lambda x: x[0])"
   ]
  },
  {
   "cell_type": "code",
   "execution_count": 382,
   "metadata": {},
   "outputs": [],
   "source": [
    "column_names = ['Code'+str(i) for i in range(obj.max_codes)]"
   ]
  },
  {
   "cell_type": "code",
   "execution_count": 383,
   "metadata": {},
   "outputs": [],
   "source": [
    "d7[column_names] = d7[icd9].apply(pd.Series)"
   ]
  },
  {
   "cell_type": "code",
   "execution_count": 384,
   "metadata": {},
   "outputs": [],
   "source": [
    "# diving the age into buckets of size 10 years\n",
    "bin = np.array([-1, 20, 30, 40, 50, 60, 70, 80, np.Inf])\n",
    "label = ['AGE1', 'AGE2', 'AGE3', 'AGE4', 'AGE5', 'AGE6', 'AGE7', 'AGE8']\n",
    "d7['age'] = pd.cut(d7['age'], bins=bin, labels=label)"
   ]
  },
  {
   "cell_type": "code",
   "execution_count": 385,
   "metadata": {},
   "outputs": [],
   "source": [
    "age_dict = {}\n",
    "for k in label:\n",
    "    age_dict[k] = counter\n",
    "    counter += 1"
   ]
  },
  {
   "cell_type": "code",
   "execution_count": 386,
   "metadata": {},
   "outputs": [],
   "source": [
    "d7.age = d7.age.astype('str')\n",
    "for k in label:\n",
    "    d7.loc[d7['age'] == k, 'age']    = age_dict[k]"
   ]
  },
  {
   "cell_type": "code",
   "execution_count": 387,
   "metadata": {},
   "outputs": [],
   "source": [
    "static = d7[[i for i in static_columns+column_names+[target] if i != icd9]]"
   ]
  },
  {
   "cell_type": "code",
   "execution_count": 388,
   "metadata": {},
   "outputs": [
    {
     "data": {
      "text/html": [
       "<div>\n",
       "<style scoped>\n",
       "    .dataframe tbody tr th:only-of-type {\n",
       "        vertical-align: middle;\n",
       "    }\n",
       "\n",
       "    .dataframe tbody tr th {\n",
       "        vertical-align: top;\n",
       "    }\n",
       "\n",
       "    .dataframe thead th {\n",
       "        text-align: right;\n",
       "    }\n",
       "</style>\n",
       "<table border=\"1\" class=\"dataframe\">\n",
       "  <thead>\n",
       "    <tr style=\"text-align: right;\">\n",
       "      <th></th>\n",
       "      <th></th>\n",
       "      <th></th>\n",
       "      <th>gender</th>\n",
       "      <th>ethnicity</th>\n",
       "      <th>age</th>\n",
       "      <th>insurance</th>\n",
       "      <th>admission_type</th>\n",
       "      <th>first_careunit</th>\n",
       "      <th>Code0</th>\n",
       "      <th>Code1</th>\n",
       "      <th>Code2</th>\n",
       "      <th>Code3</th>\n",
       "      <th>Code4</th>\n",
       "      <th>Code5</th>\n",
       "      <th>Code6</th>\n",
       "      <th>Code7</th>\n",
       "      <th>Code8</th>\n",
       "      <th>Code9</th>\n",
       "      <th>Code10</th>\n",
       "      <th>Code11</th>\n",
       "      <th>Code12</th>\n",
       "      <th>Code13</th>\n",
       "      <th>Code14</th>\n",
       "      <th>Code15</th>\n",
       "      <th>Code16</th>\n",
       "      <th>Code17</th>\n",
       "      <th>Code18</th>\n",
       "      <th>Code19</th>\n",
       "      <th>Code20</th>\n",
       "      <th>Code21</th>\n",
       "      <th>Code22</th>\n",
       "      <th>Code23</th>\n",
       "      <th>Code24</th>\n",
       "      <th>Code25</th>\n",
       "      <th>Code26</th>\n",
       "      <th>Code27</th>\n",
       "      <th>Code28</th>\n",
       "      <th>Code29</th>\n",
       "      <th>Code30</th>\n",
       "      <th>Code31</th>\n",
       "      <th>Code32</th>\n",
       "      <th>Code33</th>\n",
       "      <th>Code34</th>\n",
       "      <th>Code35</th>\n",
       "      <th>Code36</th>\n",
       "      <th>Code37</th>\n",
       "      <th>Code38</th>\n",
       "      <th>mort_hosp</th>\n",
       "    </tr>\n",
       "    <tr>\n",
       "      <th>subject_id</th>\n",
       "      <th>hadm_id</th>\n",
       "      <th>icustay_id</th>\n",
       "      <th></th>\n",
       "      <th></th>\n",
       "      <th></th>\n",
       "      <th></th>\n",
       "      <th></th>\n",
       "      <th></th>\n",
       "      <th></th>\n",
       "      <th></th>\n",
       "      <th></th>\n",
       "      <th></th>\n",
       "      <th></th>\n",
       "      <th></th>\n",
       "      <th></th>\n",
       "      <th></th>\n",
       "      <th></th>\n",
       "      <th></th>\n",
       "      <th></th>\n",
       "      <th></th>\n",
       "      <th></th>\n",
       "      <th></th>\n",
       "      <th></th>\n",
       "      <th></th>\n",
       "      <th></th>\n",
       "      <th></th>\n",
       "      <th></th>\n",
       "      <th></th>\n",
       "      <th></th>\n",
       "      <th></th>\n",
       "      <th></th>\n",
       "      <th></th>\n",
       "      <th></th>\n",
       "      <th></th>\n",
       "      <th></th>\n",
       "      <th></th>\n",
       "      <th></th>\n",
       "      <th></th>\n",
       "      <th></th>\n",
       "      <th></th>\n",
       "      <th></th>\n",
       "      <th></th>\n",
       "      <th></th>\n",
       "      <th></th>\n",
       "      <th></th>\n",
       "      <th></th>\n",
       "      <th></th>\n",
       "      <th></th>\n",
       "    </tr>\n",
       "  </thead>\n",
       "  <tbody>\n",
       "    <tr>\n",
       "      <th>3</th>\n",
       "      <th>145834</th>\n",
       "      <th>211552</th>\n",
       "      <td>6</td>\n",
       "      <td>16</td>\n",
       "      <td>6073</td>\n",
       "      <td>8</td>\n",
       "      <td>13</td>\n",
       "      <td>1</td>\n",
       "      <td>27</td>\n",
       "      <td>28</td>\n",
       "      <td>29</td>\n",
       "      <td>30</td>\n",
       "      <td>31</td>\n",
       "      <td>32</td>\n",
       "      <td>33</td>\n",
       "      <td>34</td>\n",
       "      <td>35</td>\n",
       "      <td>0</td>\n",
       "      <td>0</td>\n",
       "      <td>0</td>\n",
       "      <td>0</td>\n",
       "      <td>0</td>\n",
       "      <td>0</td>\n",
       "      <td>0</td>\n",
       "      <td>0</td>\n",
       "      <td>0</td>\n",
       "      <td>0</td>\n",
       "      <td>0</td>\n",
       "      <td>0</td>\n",
       "      <td>0</td>\n",
       "      <td>0</td>\n",
       "      <td>0</td>\n",
       "      <td>0</td>\n",
       "      <td>0</td>\n",
       "      <td>0</td>\n",
       "      <td>0</td>\n",
       "      <td>0</td>\n",
       "      <td>0</td>\n",
       "      <td>0</td>\n",
       "      <td>0</td>\n",
       "      <td>0</td>\n",
       "      <td>0</td>\n",
       "      <td>0</td>\n",
       "      <td>0</td>\n",
       "      <td>0</td>\n",
       "      <td>0</td>\n",
       "      <td>0</td>\n",
       "      <td>0.0</td>\n",
       "    </tr>\n",
       "    <tr>\n",
       "      <th>4</th>\n",
       "      <th>185777</th>\n",
       "      <th>294638</th>\n",
       "      <td>7</td>\n",
       "      <td>16</td>\n",
       "      <td>6070</td>\n",
       "      <td>9</td>\n",
       "      <td>13</td>\n",
       "      <td>1</td>\n",
       "      <td>36</td>\n",
       "      <td>37</td>\n",
       "      <td>38</td>\n",
       "      <td>39</td>\n",
       "      <td>40</td>\n",
       "      <td>41</td>\n",
       "      <td>42</td>\n",
       "      <td>43</td>\n",
       "      <td>44</td>\n",
       "      <td>0</td>\n",
       "      <td>0</td>\n",
       "      <td>0</td>\n",
       "      <td>0</td>\n",
       "      <td>0</td>\n",
       "      <td>0</td>\n",
       "      <td>0</td>\n",
       "      <td>0</td>\n",
       "      <td>0</td>\n",
       "      <td>0</td>\n",
       "      <td>0</td>\n",
       "      <td>0</td>\n",
       "      <td>0</td>\n",
       "      <td>0</td>\n",
       "      <td>0</td>\n",
       "      <td>0</td>\n",
       "      <td>0</td>\n",
       "      <td>0</td>\n",
       "      <td>0</td>\n",
       "      <td>0</td>\n",
       "      <td>0</td>\n",
       "      <td>0</td>\n",
       "      <td>0</td>\n",
       "      <td>0</td>\n",
       "      <td>0</td>\n",
       "      <td>0</td>\n",
       "      <td>0</td>\n",
       "      <td>0</td>\n",
       "      <td>0</td>\n",
       "      <td>0</td>\n",
       "      <td>0.0</td>\n",
       "    </tr>\n",
       "    <tr>\n",
       "      <th>6</th>\n",
       "      <th>107064</th>\n",
       "      <th>228232</th>\n",
       "      <td>7</td>\n",
       "      <td>16</td>\n",
       "      <td>6072</td>\n",
       "      <td>8</td>\n",
       "      <td>14</td>\n",
       "      <td>2</td>\n",
       "      <td>45</td>\n",
       "      <td>46</td>\n",
       "      <td>47</td>\n",
       "      <td>48</td>\n",
       "      <td>49</td>\n",
       "      <td>50</td>\n",
       "      <td>51</td>\n",
       "      <td>52</td>\n",
       "      <td>0</td>\n",
       "      <td>0</td>\n",
       "      <td>0</td>\n",
       "      <td>0</td>\n",
       "      <td>0</td>\n",
       "      <td>0</td>\n",
       "      <td>0</td>\n",
       "      <td>0</td>\n",
       "      <td>0</td>\n",
       "      <td>0</td>\n",
       "      <td>0</td>\n",
       "      <td>0</td>\n",
       "      <td>0</td>\n",
       "      <td>0</td>\n",
       "      <td>0</td>\n",
       "      <td>0</td>\n",
       "      <td>0</td>\n",
       "      <td>0</td>\n",
       "      <td>0</td>\n",
       "      <td>0</td>\n",
       "      <td>0</td>\n",
       "      <td>0</td>\n",
       "      <td>0</td>\n",
       "      <td>0</td>\n",
       "      <td>0</td>\n",
       "      <td>0</td>\n",
       "      <td>0</td>\n",
       "      <td>0</td>\n",
       "      <td>0</td>\n",
       "      <td>0</td>\n",
       "      <td>0</td>\n",
       "      <td>0.0</td>\n",
       "    </tr>\n",
       "    <tr>\n",
       "      <th>9</th>\n",
       "      <th>150750</th>\n",
       "      <th>220597</th>\n",
       "      <td>6</td>\n",
       "      <td>17</td>\n",
       "      <td>6070</td>\n",
       "      <td>10</td>\n",
       "      <td>13</td>\n",
       "      <td>1</td>\n",
       "      <td>53</td>\n",
       "      <td>54</td>\n",
       "      <td>32</td>\n",
       "      <td>29</td>\n",
       "      <td>55</td>\n",
       "      <td>56</td>\n",
       "      <td>0</td>\n",
       "      <td>0</td>\n",
       "      <td>0</td>\n",
       "      <td>0</td>\n",
       "      <td>0</td>\n",
       "      <td>0</td>\n",
       "      <td>0</td>\n",
       "      <td>0</td>\n",
       "      <td>0</td>\n",
       "      <td>0</td>\n",
       "      <td>0</td>\n",
       "      <td>0</td>\n",
       "      <td>0</td>\n",
       "      <td>0</td>\n",
       "      <td>0</td>\n",
       "      <td>0</td>\n",
       "      <td>0</td>\n",
       "      <td>0</td>\n",
       "      <td>0</td>\n",
       "      <td>0</td>\n",
       "      <td>0</td>\n",
       "      <td>0</td>\n",
       "      <td>0</td>\n",
       "      <td>0</td>\n",
       "      <td>0</td>\n",
       "      <td>0</td>\n",
       "      <td>0</td>\n",
       "      <td>0</td>\n",
       "      <td>0</td>\n",
       "      <td>0</td>\n",
       "      <td>0</td>\n",
       "      <td>0</td>\n",
       "      <td>0</td>\n",
       "      <td>1.0</td>\n",
       "    </tr>\n",
       "    <tr>\n",
       "      <th>11</th>\n",
       "      <th>194540</th>\n",
       "      <th>229441</th>\n",
       "      <td>7</td>\n",
       "      <td>16</td>\n",
       "      <td>6071</td>\n",
       "      <td>9</td>\n",
       "      <td>13</td>\n",
       "      <td>2</td>\n",
       "      <td>57</td>\n",
       "      <td>0</td>\n",
       "      <td>0</td>\n",
       "      <td>0</td>\n",
       "      <td>0</td>\n",
       "      <td>0</td>\n",
       "      <td>0</td>\n",
       "      <td>0</td>\n",
       "      <td>0</td>\n",
       "      <td>0</td>\n",
       "      <td>0</td>\n",
       "      <td>0</td>\n",
       "      <td>0</td>\n",
       "      <td>0</td>\n",
       "      <td>0</td>\n",
       "      <td>0</td>\n",
       "      <td>0</td>\n",
       "      <td>0</td>\n",
       "      <td>0</td>\n",
       "      <td>0</td>\n",
       "      <td>0</td>\n",
       "      <td>0</td>\n",
       "      <td>0</td>\n",
       "      <td>0</td>\n",
       "      <td>0</td>\n",
       "      <td>0</td>\n",
       "      <td>0</td>\n",
       "      <td>0</td>\n",
       "      <td>0</td>\n",
       "      <td>0</td>\n",
       "      <td>0</td>\n",
       "      <td>0</td>\n",
       "      <td>0</td>\n",
       "      <td>0</td>\n",
       "      <td>0</td>\n",
       "      <td>0</td>\n",
       "      <td>0</td>\n",
       "      <td>0</td>\n",
       "      <td>0</td>\n",
       "      <td>0.0</td>\n",
       "    </tr>\n",
       "  </tbody>\n",
       "</table>\n",
       "</div>"
      ],
      "text/plain": [
       "                               gender  ethnicity   age  insurance  \\\n",
       "subject_id hadm_id icustay_id                                       \n",
       "3          145834  211552           6         16  6073          8   \n",
       "4          185777  294638           7         16  6070          9   \n",
       "6          107064  228232           7         16  6072          8   \n",
       "9          150750  220597           6         17  6070         10   \n",
       "11         194540  229441           7         16  6071          9   \n",
       "\n",
       "                               admission_type  first_careunit  Code0  Code1  \\\n",
       "subject_id hadm_id icustay_id                                                 \n",
       "3          145834  211552                  13               1     27     28   \n",
       "4          185777  294638                  13               1     36     37   \n",
       "6          107064  228232                  14               2     45     46   \n",
       "9          150750  220597                  13               1     53     54   \n",
       "11         194540  229441                  13               2     57      0   \n",
       "\n",
       "                               Code2  Code3  Code4  Code5  Code6  Code7  \\\n",
       "subject_id hadm_id icustay_id                                             \n",
       "3          145834  211552         29     30     31     32     33     34   \n",
       "4          185777  294638         38     39     40     41     42     43   \n",
       "6          107064  228232         47     48     49     50     51     52   \n",
       "9          150750  220597         32     29     55     56      0      0   \n",
       "11         194540  229441          0      0      0      0      0      0   \n",
       "\n",
       "                               Code8  Code9  Code10  Code11  Code12  Code13  \\\n",
       "subject_id hadm_id icustay_id                                                 \n",
       "3          145834  211552         35      0       0       0       0       0   \n",
       "4          185777  294638         44      0       0       0       0       0   \n",
       "6          107064  228232          0      0       0       0       0       0   \n",
       "9          150750  220597          0      0       0       0       0       0   \n",
       "11         194540  229441          0      0       0       0       0       0   \n",
       "\n",
       "                               Code14  Code15  Code16  Code17  Code18  Code19  \\\n",
       "subject_id hadm_id icustay_id                                                   \n",
       "3          145834  211552           0       0       0       0       0       0   \n",
       "4          185777  294638           0       0       0       0       0       0   \n",
       "6          107064  228232           0       0       0       0       0       0   \n",
       "9          150750  220597           0       0       0       0       0       0   \n",
       "11         194540  229441           0       0       0       0       0       0   \n",
       "\n",
       "                               Code20  Code21  Code22  Code23  Code24  Code25  \\\n",
       "subject_id hadm_id icustay_id                                                   \n",
       "3          145834  211552           0       0       0       0       0       0   \n",
       "4          185777  294638           0       0       0       0       0       0   \n",
       "6          107064  228232           0       0       0       0       0       0   \n",
       "9          150750  220597           0       0       0       0       0       0   \n",
       "11         194540  229441           0       0       0       0       0       0   \n",
       "\n",
       "                               Code26  Code27  Code28  Code29  Code30  Code31  \\\n",
       "subject_id hadm_id icustay_id                                                   \n",
       "3          145834  211552           0       0       0       0       0       0   \n",
       "4          185777  294638           0       0       0       0       0       0   \n",
       "6          107064  228232           0       0       0       0       0       0   \n",
       "9          150750  220597           0       0       0       0       0       0   \n",
       "11         194540  229441           0       0       0       0       0       0   \n",
       "\n",
       "                               Code32  Code33  Code34  Code35  Code36  Code37  \\\n",
       "subject_id hadm_id icustay_id                                                   \n",
       "3          145834  211552           0       0       0       0       0       0   \n",
       "4          185777  294638           0       0       0       0       0       0   \n",
       "6          107064  228232           0       0       0       0       0       0   \n",
       "9          150750  220597           0       0       0       0       0       0   \n",
       "11         194540  229441           0       0       0       0       0       0   \n",
       "\n",
       "                               Code38  mort_hosp  \n",
       "subject_id hadm_id icustay_id                     \n",
       "3          145834  211552           0        0.0  \n",
       "4          185777  294638           0        0.0  \n",
       "6          107064  228232           0        0.0  \n",
       "9          150750  220597           0        1.0  \n",
       "11         194540  229441           0        0.0  "
      ]
     },
     "execution_count": 388,
     "metadata": {},
     "output_type": "execute_result"
    }
   ],
   "source": [
    "static.head()"
   ]
  },
  {
   "cell_type": "code",
   "execution_count": 389,
   "metadata": {},
   "outputs": [
    {
     "name": "stdout",
     "output_type": "stream",
     "text": [
      "1 26\n"
     ]
    }
   ],
   "source": [
    "print(min(static_dict.values()),max(static_dict.values()))"
   ]
  },
  {
   "cell_type": "code",
   "execution_count": 390,
   "metadata": {},
   "outputs": [
    {
     "name": "stdout",
     "output_type": "stream",
     "text": [
      "27 6066\n"
     ]
    }
   ],
   "source": [
    "print(min(icd9_code_dict.values()),max(icd9_code_dict.values()))"
   ]
  },
  {
   "cell_type": "code",
   "execution_count": 391,
   "metadata": {},
   "outputs": [
    {
     "name": "stdout",
     "output_type": "stream",
     "text": [
      "6067 6074\n"
     ]
    }
   ],
   "source": [
    "print(min(age_dict.values()),max(age_dict.values()))"
   ]
  },
  {
   "cell_type": "markdown",
   "metadata": {},
   "source": [
    "### Training Model"
   ]
  },
  {
   "cell_type": "code",
   "execution_count": 406,
   "metadata": {},
   "outputs": [],
   "source": [
    "from sklearn.metrics import average_precision_score, roc_auc_score, accuracy_score, f1_score, classification_report\n",
    "\n",
    "import torch, torch.utils.data as utils, torch.nn as nn, torch.nn.functional as F, torch.optim as optim\n",
    "from torch.autograd import Variable\n",
    "from torch.nn.parameter import Parameter\n",
    "from tqdm import tqdm\n",
    "from time import time"
   ]
  },
  {
   "cell_type": "code",
   "execution_count": 407,
   "metadata": {},
   "outputs": [],
   "source": [
    "full_dataset = static.copy(deep=True)"
   ]
  },
  {
   "cell_type": "code",
   "execution_count": 408,
   "metadata": {},
   "outputs": [],
   "source": [
    "# use this when the dataset needs to be divided into three sets without external files for subject ids\n",
    "train_size = int(0.7 * len(full_dataset))\n",
    "valid_size = int(0.1 * len(full_dataset))\n",
    "test_size = len(full_dataset) - train_size - valid_size\n",
    "trainX, trainY = full_dataset[:train_size].drop(columns=[target]), full_dataset[:train_size][target]\n",
    "validX, validY = full_dataset[train_size:train_size+valid_size].drop(columns=[target]), full_dataset[train_size:train_size+valid_size][target]\n",
    "testX, testY = full_dataset[train_size+valid_size:].drop(columns=[target]), full_dataset[train_size+valid_size:][target]"
   ]
  },
  {
   "cell_type": "code",
   "execution_count": 409,
   "metadata": {},
   "outputs": [],
   "source": [
    "# using subject ids from a file for diving the dataset\n",
    "# use this logic only if the subject ids are available in a seperate file\n",
    "# otherwise divide the dataset into ratios later\n",
    "train_df = pd.read_csv('train_subj.csv',names=['subject_id'])\n",
    "dev_df = pd.read_csv('dev_subj.csv',names=['subject_id'])\n",
    "test_df = pd.read_csv('test_subj.csv',names=['subject_id'])\n",
    "\n",
    "# use this when a seperate file for diving the dataset using external files for subject ids\n",
    "train = pd.merge(full_dataset,train_df,how='right',on=['subject_id'])\n",
    "valid = pd.merge(full_dataset,dev_df,how='right',on=['subject_id'])\n",
    "test = pd.merge(full_dataset,test_df,how='right',on=['subject_id'])\n",
    "\n",
    "trainX, trainY = train[[i for i in static_columns+column_names if i != icd9]], train[target]\n",
    "validX, validY = valid[[i for i in static_columns+column_names if i != icd9]], valid[target]\n",
    "testX, testY = test[[i for i in static_columns+column_names if i != icd9]], test[target]"
   ]
  },
  {
   "cell_type": "code",
   "execution_count": 410,
   "metadata": {},
   "outputs": [
    {
     "data": {
      "text/plain": [
       "23944"
      ]
     },
     "execution_count": 410,
     "metadata": {},
     "output_type": "execute_result"
    }
   ],
   "source": [
    "len(testX)+len(trainX)+len(validX)"
   ]
  },
  {
   "cell_type": "code",
   "execution_count": 411,
   "metadata": {},
   "outputs": [
    {
     "data": {
      "text/plain": [
       "0.0    14934\n",
       "1.0     1826\n",
       "Name: mort_hosp, dtype: int64"
      ]
     },
     "execution_count": 411,
     "metadata": {},
     "output_type": "execute_result"
    }
   ],
   "source": [
    "trainY.value_counts()"
   ]
  },
  {
   "cell_type": "code",
   "execution_count": 412,
   "metadata": {},
   "outputs": [],
   "source": [
    "def prepare_dataloader(X, label, batch_size, shuffle=True):\n",
    "    pos_weight = torch.tensor((len(label) - np.sum(label))/np.sum(label))\n",
    "    X     = torch.from_numpy(X.values.astype(np.int))\n",
    "    label = torch.from_numpy(label.values.astype(np.float64))\n",
    "    dataset = utils.TensorDataset(X, label)\n",
    "\n",
    "    \n",
    "#     pos_weight = torch.tensor((len(label) - torch.sum(label))/torch.sum(label))\n",
    "    return pos_weight, utils.DataLoader(dataset, batch_size=batch_size, shuffle=shuffle, drop_last = True)\n",
    "#     return (pos_weight, utils.DataLoader(dataset, batch_size=batch_size, shuffle=shuffle, drop_last = True))"
   ]
  },
  {
   "cell_type": "code",
   "execution_count": 413,
   "metadata": {},
   "outputs": [],
   "source": [
    "class CBOW(nn.Module):\n",
    "    def __init__(self, num_codes):\n",
    "        super(CBOW, self).__init__()\n",
    "        self.dropout = nn.Dropout(p=0.5)\n",
    "        # Embedding dimensions\n",
    "        self.embed_dim = 21\n",
    "\n",
    "        # Embedding layers\n",
    "        self.embed_layer = nn.Embedding(num_embeddings=num_codes, embedding_dim=self.embed_dim, padding_idx=0)\n",
    "        \n",
    "        # FC layers\n",
    "        self.fc_layer = nn.Linear(45*self.embed_dim, 32)\n",
    "        self.fc_all = nn.Linear(32, 1)\n",
    "    \n",
    "    def forward(self, codes):\n",
    "        embed = self.embed_layer(codes)\n",
    "        embed = embed.view(-1,45*(self.embed_dim))\n",
    "        out = F.leaky_relu(self.fc_layer(embed))\n",
    "        out = F.sigmoid(self.fc_all(out))\n",
    "        return out"
   ]
  },
  {
   "cell_type": "code",
   "execution_count": 414,
   "metadata": {},
   "outputs": [],
   "source": [
    "net = CBOW(6076)"
   ]
  },
  {
   "cell_type": "code",
   "execution_count": 415,
   "metadata": {},
   "outputs": [],
   "source": [
    "pos_weight, train_loader = prepare_dataloader(trainX, trainY, 64)\n",
    "_, valid_loader = prepare_dataloader(validX, validY, 64)\n",
    "criterion = nn.BCEWithLogitsLoss(pos_weight=pos_weight)\n",
    "optimizer = optim.Adam(net.parameters(), lr = 0.001,weight_decay= 0.001)\n",
    "epoch_times = []"
   ]
  },
  {
   "cell_type": "code",
   "execution_count": 416,
   "metadata": {},
   "outputs": [
    {
     "name": "stderr",
     "output_type": "stream",
     "text": [
      "  0%|          | 0/261 [00:00<?, ?it/s]/Users/rishabhkhanna/miniconda3/lib/python3.8/site-packages/torch/nn/functional.py:1639: UserWarning: nn.functional.sigmoid is deprecated. Use torch.sigmoid instead.\n",
      "  warnings.warn(\"nn.functional.sigmoid is deprecated. Use torch.sigmoid instead.\")\n",
      "  7%|▋         | 17/261 [00:00<00:01, 162.14it/s]"
     ]
    },
    {
     "name": "stdout",
     "output_type": "stream",
     "text": [
      "-----------------------------------------\n",
      "Epoch: 0\n"
     ]
    },
    {
     "name": "stderr",
     "output_type": "stream",
     "text": [
      "100%|██████████| 261/261 [00:01<00:00, 220.56it/s]\n",
      "  0%|          | 0/261 [00:00<?, ?it/s]/Users/rishabhkhanna/miniconda3/lib/python3.8/site-packages/torch/nn/functional.py:1639: UserWarning: nn.functional.sigmoid is deprecated. Use torch.sigmoid instead.\n",
      "  warnings.warn(\"nn.functional.sigmoid is deprecated. Use torch.sigmoid instead.\")\n",
      "  9%|▉         | 24/261 [00:00<00:01, 232.36it/s]"
     ]
    },
    {
     "name": "stdout",
     "output_type": "stream",
     "text": [
      "Loss is:  1.192133938047945\n",
      "0.330757341576507\n",
      "              precision    recall  f1-score   support\n",
      "\n",
      "         0.0       0.94      0.85      0.89      2148\n",
      "         1.0       0.25      0.49      0.33       220\n",
      "\n",
      "    accuracy                           0.82      2368\n",
      "   macro avg       0.60      0.67      0.61      2368\n",
      "weighted avg       0.88      0.82      0.84      2368\n",
      "\n",
      "-----------------------------------------\n",
      "Epoch: 1\n"
     ]
    },
    {
     "name": "stderr",
     "output_type": "stream",
     "text": [
      "100%|██████████| 261/261 [00:01<00:00, 222.94it/s]\n",
      "  8%|▊         | 22/261 [00:00<00:01, 214.93it/s]"
     ]
    },
    {
     "name": "stdout",
     "output_type": "stream",
     "text": [
      "Loss is:  1.1328735005491868\n",
      "-----------------------------------------\n",
      "Epoch: 2\n"
     ]
    },
    {
     "name": "stderr",
     "output_type": "stream",
     "text": [
      "100%|██████████| 261/261 [00:01<00:00, 217.39it/s]\n",
      "  9%|▉         | 24/261 [00:00<00:01, 231.45it/s]"
     ]
    },
    {
     "name": "stdout",
     "output_type": "stream",
     "text": [
      "Loss is:  1.1090698957200482\n",
      "-----------------------------------------\n",
      "Epoch: 3\n"
     ]
    },
    {
     "name": "stderr",
     "output_type": "stream",
     "text": [
      "100%|██████████| 261/261 [00:01<00:00, 220.91it/s]\n",
      " 18%|█▊        | 48/261 [00:00<00:00, 238.29it/s]"
     ]
    },
    {
     "name": "stdout",
     "output_type": "stream",
     "text": [
      "Loss is:  1.0892507498207928\n",
      "-----------------------------------------\n",
      "Epoch: 4\n"
     ]
    },
    {
     "name": "stderr",
     "output_type": "stream",
     "text": [
      "100%|██████████| 261/261 [00:01<00:00, 221.35it/s]\n",
      "  8%|▊         | 20/261 [00:00<00:01, 193.76it/s]"
     ]
    },
    {
     "name": "stdout",
     "output_type": "stream",
     "text": [
      "Loss is:  1.0734188568431529\n",
      "-----------------------------------------\n",
      "Epoch: 5\n"
     ]
    },
    {
     "name": "stderr",
     "output_type": "stream",
     "text": [
      "100%|██████████| 261/261 [00:01<00:00, 219.99it/s]\n",
      "  0%|          | 0/261 [00:00<?, ?it/s]/Users/rishabhkhanna/miniconda3/lib/python3.8/site-packages/torch/nn/functional.py:1639: UserWarning: nn.functional.sigmoid is deprecated. Use torch.sigmoid instead.\n",
      "  warnings.warn(\"nn.functional.sigmoid is deprecated. Use torch.sigmoid instead.\")\n",
      "  9%|▉         | 23/261 [00:00<00:01, 222.95it/s]"
     ]
    },
    {
     "name": "stdout",
     "output_type": "stream",
     "text": [
      "Loss is:  1.0600419385562072\n",
      "0.43545878693623635\n",
      "              precision    recall  f1-score   support\n",
      "\n",
      "         0.0       0.96      0.87      0.91      2147\n",
      "         1.0       0.33      0.63      0.44       221\n",
      "\n",
      "    accuracy                           0.85      2368\n",
      "   macro avg       0.65      0.75      0.67      2368\n",
      "weighted avg       0.90      0.85      0.87      2368\n",
      "\n",
      "-----------------------------------------\n",
      "Epoch: 6\n"
     ]
    },
    {
     "name": "stderr",
     "output_type": "stream",
     "text": [
      "100%|██████████| 261/261 [00:01<00:00, 226.77it/s]\n",
      "  8%|▊         | 22/261 [00:00<00:01, 216.03it/s]"
     ]
    },
    {
     "name": "stdout",
     "output_type": "stream",
     "text": [
      "Loss is:  1.0488907994151457\n",
      "-----------------------------------------\n",
      "Epoch: 7\n"
     ]
    },
    {
     "name": "stderr",
     "output_type": "stream",
     "text": [
      "100%|██████████| 261/261 [00:01<00:00, 224.12it/s]\n",
      " 18%|█▊        | 46/261 [00:00<00:00, 224.13it/s]"
     ]
    },
    {
     "name": "stdout",
     "output_type": "stream",
     "text": [
      "Loss is:  1.0403261201170482\n",
      "-----------------------------------------\n",
      "Epoch: 8\n"
     ]
    },
    {
     "name": "stderr",
     "output_type": "stream",
     "text": [
      "100%|██████████| 261/261 [00:01<00:00, 224.11it/s]\n",
      "  9%|▉         | 23/261 [00:00<00:01, 221.56it/s]"
     ]
    },
    {
     "name": "stdout",
     "output_type": "stream",
     "text": [
      "Loss is:  1.031219865381212\n",
      "-----------------------------------------\n",
      "Epoch: 9\n"
     ]
    },
    {
     "name": "stderr",
     "output_type": "stream",
     "text": [
      "100%|██████████| 261/261 [00:01<00:00, 224.35it/s]\n",
      "  9%|▉         | 23/261 [00:00<00:01, 222.87it/s]"
     ]
    },
    {
     "name": "stdout",
     "output_type": "stream",
     "text": [
      "Loss is:  1.0207473770651936\n",
      "-----------------------------------------\n",
      "Epoch: 10\n"
     ]
    },
    {
     "name": "stderr",
     "output_type": "stream",
     "text": [
      "100%|██████████| 261/261 [00:01<00:00, 228.12it/s]\n",
      "  0%|          | 0/261 [00:00<?, ?it/s]/Users/rishabhkhanna/miniconda3/lib/python3.8/site-packages/torch/nn/functional.py:1639: UserWarning: nn.functional.sigmoid is deprecated. Use torch.sigmoid instead.\n",
      "  warnings.warn(\"nn.functional.sigmoid is deprecated. Use torch.sigmoid instead.\")\n",
      "  9%|▉         | 23/261 [00:00<00:01, 222.08it/s]"
     ]
    },
    {
     "name": "stdout",
     "output_type": "stream",
     "text": [
      "Loss is:  1.0142555332732124\n",
      "0.47368421052631576\n",
      "              precision    recall  f1-score   support\n",
      "\n",
      "         0.0       0.96      0.89      0.92      2147\n",
      "         1.0       0.37      0.65      0.47       221\n",
      "\n",
      "    accuracy                           0.86      2368\n",
      "   macro avg       0.67      0.77      0.70      2368\n",
      "weighted avg       0.91      0.86      0.88      2368\n",
      "\n",
      "-----------------------------------------\n",
      "Epoch: 11\n"
     ]
    },
    {
     "name": "stderr",
     "output_type": "stream",
     "text": [
      "100%|██████████| 261/261 [00:01<00:00, 225.51it/s]\n",
      "  9%|▉         | 24/261 [00:00<00:01, 233.59it/s]"
     ]
    },
    {
     "name": "stdout",
     "output_type": "stream",
     "text": [
      "Loss is:  1.0069202338281058\n",
      "-----------------------------------------\n",
      "Epoch: 12\n"
     ]
    },
    {
     "name": "stderr",
     "output_type": "stream",
     "text": [
      "100%|██████████| 261/261 [00:01<00:00, 226.90it/s]\n",
      " 18%|█▊        | 48/261 [00:00<00:00, 236.37it/s]"
     ]
    },
    {
     "name": "stdout",
     "output_type": "stream",
     "text": [
      "Loss is:  1.0006632460114215\n",
      "-----------------------------------------\n",
      "Epoch: 13\n"
     ]
    },
    {
     "name": "stderr",
     "output_type": "stream",
     "text": [
      "100%|██████████| 261/261 [00:01<00:00, 224.97it/s]\n",
      "  9%|▉         | 24/261 [00:00<00:01, 233.10it/s]"
     ]
    },
    {
     "name": "stdout",
     "output_type": "stream",
     "text": [
      "Loss is:  0.9950965781223712\n",
      "-----------------------------------------\n",
      "Epoch: 14\n"
     ]
    },
    {
     "name": "stderr",
     "output_type": "stream",
     "text": [
      "100%|██████████| 261/261 [00:01<00:00, 228.49it/s]\n",
      "  8%|▊         | 22/261 [00:00<00:01, 213.78it/s]"
     ]
    },
    {
     "name": "stdout",
     "output_type": "stream",
     "text": [
      "Loss is:  0.9890118732369717\n",
      "-----------------------------------------\n",
      "Epoch: 15\n"
     ]
    },
    {
     "name": "stderr",
     "output_type": "stream",
     "text": [
      "100%|██████████| 261/261 [00:01<00:00, 225.81it/s]\n",
      "  0%|          | 0/261 [00:00<?, ?it/s]/Users/rishabhkhanna/miniconda3/lib/python3.8/site-packages/torch/nn/functional.py:1639: UserWarning: nn.functional.sigmoid is deprecated. Use torch.sigmoid instead.\n",
      "  warnings.warn(\"nn.functional.sigmoid is deprecated. Use torch.sigmoid instead.\")\n",
      "  8%|▊         | 22/261 [00:00<00:01, 216.48it/s]"
     ]
    },
    {
     "name": "stdout",
     "output_type": "stream",
     "text": [
      "Loss is:  0.9873651373080247\n",
      "0.5131810193321615\n",
      "              precision    recall  f1-score   support\n",
      "\n",
      "         0.0       0.96      0.91      0.93      2147\n",
      "         1.0       0.42      0.66      0.51       221\n",
      "\n",
      "    accuracy                           0.88      2368\n",
      "   macro avg       0.69      0.78      0.72      2368\n",
      "weighted avg       0.91      0.88      0.89      2368\n",
      "\n",
      "-----------------------------------------\n",
      "Epoch: 16\n"
     ]
    },
    {
     "name": "stderr",
     "output_type": "stream",
     "text": [
      "100%|██████████| 261/261 [00:01<00:00, 226.56it/s]\n",
      " 18%|█▊        | 47/261 [00:00<00:00, 231.63it/s]"
     ]
    },
    {
     "name": "stdout",
     "output_type": "stream",
     "text": [
      "Loss is:  0.9823462310505261\n",
      "-----------------------------------------\n",
      "Epoch: 17\n"
     ]
    },
    {
     "name": "stderr",
     "output_type": "stream",
     "text": [
      "100%|██████████| 261/261 [00:01<00:00, 224.62it/s]\n",
      "  9%|▉         | 23/261 [00:00<00:01, 224.59it/s]"
     ]
    },
    {
     "name": "stdout",
     "output_type": "stream",
     "text": [
      "Loss is:  0.9780989457364235\n",
      "-----------------------------------------\n",
      "Epoch: 18\n"
     ]
    },
    {
     "name": "stderr",
     "output_type": "stream",
     "text": [
      "100%|██████████| 261/261 [00:01<00:00, 229.23it/s]\n",
      "  9%|▉         | 23/261 [00:00<00:01, 220.53it/s]"
     ]
    },
    {
     "name": "stdout",
     "output_type": "stream",
     "text": [
      "Loss is:  0.9743915807670155\n",
      "-----------------------------------------\n",
      "Epoch: 19\n"
     ]
    },
    {
     "name": "stderr",
     "output_type": "stream",
     "text": [
      "100%|██████████| 261/261 [00:01<00:00, 227.99it/s]\n",
      "  9%|▉         | 24/261 [00:00<00:01, 234.95it/s]"
     ]
    },
    {
     "name": "stdout",
     "output_type": "stream",
     "text": [
      "Loss is:  0.9727069065308668\n",
      "-----------------------------------------\n",
      "Epoch: 20\n"
     ]
    },
    {
     "name": "stderr",
     "output_type": "stream",
     "text": [
      "100%|██████████| 261/261 [00:01<00:00, 229.50it/s]\n",
      "  0%|          | 0/261 [00:00<?, ?it/s]/Users/rishabhkhanna/miniconda3/lib/python3.8/site-packages/torch/nn/functional.py:1639: UserWarning: nn.functional.sigmoid is deprecated. Use torch.sigmoid instead.\n",
      "  warnings.warn(\"nn.functional.sigmoid is deprecated. Use torch.sigmoid instead.\")\n",
      "  9%|▉         | 23/261 [00:00<00:01, 223.09it/s]"
     ]
    },
    {
     "name": "stdout",
     "output_type": "stream",
     "text": [
      "Loss is:  0.9690320428817784\n",
      "0.5178236397748593\n",
      "              precision    recall  f1-score   support\n",
      "\n",
      "         0.0       0.96      0.92      0.94      2146\n",
      "         1.0       0.44      0.62      0.52       222\n",
      "\n",
      "    accuracy                           0.89      2368\n",
      "   macro avg       0.70      0.77      0.73      2368\n",
      "weighted avg       0.91      0.89      0.90      2368\n",
      "\n",
      "-----------------------------------------\n",
      "Epoch: 21\n"
     ]
    },
    {
     "name": "stderr",
     "output_type": "stream",
     "text": [
      "100%|██████████| 261/261 [00:01<00:00, 227.53it/s]\n",
      "  9%|▉         | 23/261 [00:00<00:01, 227.41it/s]"
     ]
    },
    {
     "name": "stdout",
     "output_type": "stream",
     "text": [
      "Loss is:  0.9680304942386364\n",
      "-----------------------------------------\n",
      "Epoch: 22\n"
     ]
    },
    {
     "name": "stderr",
     "output_type": "stream",
     "text": [
      "100%|██████████| 261/261 [00:01<00:00, 228.97it/s]\n",
      "  9%|▉         | 24/261 [00:00<00:01, 233.47it/s]"
     ]
    },
    {
     "name": "stdout",
     "output_type": "stream",
     "text": [
      "Loss is:  0.9657918715549293\n",
      "-----------------------------------------\n",
      "Epoch: 23\n"
     ]
    },
    {
     "name": "stderr",
     "output_type": "stream",
     "text": [
      "100%|██████████| 261/261 [00:01<00:00, 224.37it/s]\n",
      "  9%|▉         | 23/261 [00:00<00:01, 229.49it/s]"
     ]
    },
    {
     "name": "stdout",
     "output_type": "stream",
     "text": [
      "Loss is:  0.9642350343336706\n",
      "-----------------------------------------\n",
      "Epoch: 24\n"
     ]
    },
    {
     "name": "stderr",
     "output_type": "stream",
     "text": [
      "100%|██████████| 261/261 [00:01<00:00, 227.70it/s]\n",
      "  9%|▉         | 24/261 [00:00<00:01, 231.64it/s]"
     ]
    },
    {
     "name": "stdout",
     "output_type": "stream",
     "text": [
      "Loss is:  0.9624201952552319\n",
      "-----------------------------------------\n",
      "Epoch: 25\n"
     ]
    },
    {
     "name": "stderr",
     "output_type": "stream",
     "text": [
      "100%|██████████| 261/261 [00:01<00:00, 225.35it/s]\n",
      "  0%|          | 0/261 [00:00<?, ?it/s]/Users/rishabhkhanna/miniconda3/lib/python3.8/site-packages/torch/nn/functional.py:1639: UserWarning: nn.functional.sigmoid is deprecated. Use torch.sigmoid instead.\n",
      "  warnings.warn(\"nn.functional.sigmoid is deprecated. Use torch.sigmoid instead.\")\n",
      "  9%|▉         | 23/261 [00:00<00:01, 223.84it/s]"
     ]
    },
    {
     "name": "stdout",
     "output_type": "stream",
     "text": [
      "Loss is:  0.9607946074671943\n",
      "0.5163636363636365\n",
      "              precision    recall  f1-score   support\n",
      "\n",
      "         0.0       0.96      0.91      0.94      2148\n",
      "         1.0       0.43      0.65      0.52       220\n",
      "\n",
      "    accuracy                           0.89      2368\n",
      "   macro avg       0.70      0.78      0.73      2368\n",
      "weighted avg       0.91      0.89      0.90      2368\n",
      "\n",
      "-----------------------------------------\n",
      "Epoch: 26\n"
     ]
    },
    {
     "name": "stderr",
     "output_type": "stream",
     "text": [
      "100%|██████████| 261/261 [00:01<00:00, 225.83it/s]\n",
      "  9%|▉         | 23/261 [00:00<00:01, 214.29it/s]"
     ]
    },
    {
     "name": "stdout",
     "output_type": "stream",
     "text": [
      "Loss is:  0.9594010898827519\n",
      "-----------------------------------------\n",
      "Epoch: 27\n"
     ]
    },
    {
     "name": "stderr",
     "output_type": "stream",
     "text": [
      "100%|██████████| 261/261 [00:01<00:00, 228.42it/s]\n",
      "  9%|▉         | 24/261 [00:00<00:00, 238.51it/s]"
     ]
    },
    {
     "name": "stdout",
     "output_type": "stream",
     "text": [
      "Loss is:  0.9585439998338823\n",
      "-----------------------------------------\n",
      "Epoch: 28\n"
     ]
    },
    {
     "name": "stderr",
     "output_type": "stream",
     "text": [
      "100%|██████████| 261/261 [00:01<00:00, 226.27it/s]\n",
      " 18%|█▊        | 47/261 [00:00<00:00, 228.29it/s]"
     ]
    },
    {
     "name": "stdout",
     "output_type": "stream",
     "text": [
      "Loss is:  0.957746761485975\n",
      "-----------------------------------------\n",
      "Epoch: 29\n"
     ]
    },
    {
     "name": "stderr",
     "output_type": "stream",
     "text": [
      "100%|██████████| 261/261 [00:01<00:00, 231.28it/s]\n",
      "  9%|▉         | 23/261 [00:00<00:01, 223.38it/s]"
     ]
    },
    {
     "name": "stdout",
     "output_type": "stream",
     "text": [
      "Loss is:  0.9567952416091632\n",
      "-----------------------------------------\n",
      "Epoch: 30\n"
     ]
    },
    {
     "name": "stderr",
     "output_type": "stream",
     "text": [
      "100%|██████████| 261/261 [00:01<00:00, 224.41it/s]\n",
      "  0%|          | 0/261 [00:00<?, ?it/s]/Users/rishabhkhanna/miniconda3/lib/python3.8/site-packages/torch/nn/functional.py:1639: UserWarning: nn.functional.sigmoid is deprecated. Use torch.sigmoid instead.\n",
      "  warnings.warn(\"nn.functional.sigmoid is deprecated. Use torch.sigmoid instead.\")\n",
      "  9%|▉         | 23/261 [00:00<00:01, 225.21it/s]"
     ]
    },
    {
     "name": "stdout",
     "output_type": "stream",
     "text": [
      "Loss is:  0.9559520071275078\n",
      "0.5073529411764706\n",
      "              precision    recall  f1-score   support\n",
      "\n",
      "         0.0       0.96      0.91      0.94      2147\n",
      "         1.0       0.43      0.62      0.51       221\n",
      "\n",
      "    accuracy                           0.89      2368\n",
      "   macro avg       0.69      0.77      0.72      2368\n",
      "weighted avg       0.91      0.89      0.90      2368\n",
      "\n",
      "-----------------------------------------\n",
      "Epoch: 31\n"
     ]
    },
    {
     "name": "stderr",
     "output_type": "stream",
     "text": [
      "100%|██████████| 261/261 [00:01<00:00, 226.09it/s]\n",
      " 10%|▉         | 25/261 [00:00<00:00, 239.29it/s]"
     ]
    },
    {
     "name": "stdout",
     "output_type": "stream",
     "text": [
      "Loss is:  0.9546599309209685\n",
      "-----------------------------------------\n",
      "Epoch: 32\n"
     ]
    },
    {
     "name": "stderr",
     "output_type": "stream",
     "text": [
      "100%|██████████| 261/261 [00:01<00:00, 225.79it/s]\n",
      " 18%|█▊        | 48/261 [00:00<00:00, 234.20it/s]"
     ]
    },
    {
     "name": "stdout",
     "output_type": "stream",
     "text": [
      "Loss is:  0.9542220926504055\n",
      "-----------------------------------------\n",
      "Epoch: 33\n"
     ]
    },
    {
     "name": "stderr",
     "output_type": "stream",
     "text": [
      "100%|██████████| 261/261 [00:01<00:00, 224.57it/s]\n",
      "  9%|▉         | 24/261 [00:00<00:01, 232.45it/s]"
     ]
    },
    {
     "name": "stdout",
     "output_type": "stream",
     "text": [
      "Loss is:  0.9533787656921546\n",
      "-----------------------------------------\n",
      "Epoch: 34\n"
     ]
    },
    {
     "name": "stderr",
     "output_type": "stream",
     "text": [
      "100%|██████████| 261/261 [00:01<00:00, 227.69it/s]\n",
      "  9%|▉         | 24/261 [00:00<00:01, 229.79it/s]"
     ]
    },
    {
     "name": "stdout",
     "output_type": "stream",
     "text": [
      "Loss is:  0.9536316876693074\n",
      "-----------------------------------------\n",
      "Epoch: 35\n"
     ]
    },
    {
     "name": "stderr",
     "output_type": "stream",
     "text": [
      "100%|██████████| 261/261 [00:01<00:00, 227.82it/s]\n",
      "  0%|          | 0/261 [00:00<?, ?it/s]/Users/rishabhkhanna/miniconda3/lib/python3.8/site-packages/torch/nn/functional.py:1639: UserWarning: nn.functional.sigmoid is deprecated. Use torch.sigmoid instead.\n",
      "  warnings.warn(\"nn.functional.sigmoid is deprecated. Use torch.sigmoid instead.\")\n",
      "  8%|▊         | 22/261 [00:00<00:01, 213.79it/s]"
     ]
    },
    {
     "name": "stdout",
     "output_type": "stream",
     "text": [
      "Loss is:  0.9539029129351421\n",
      "0.4980842911877395\n",
      "              precision    recall  f1-score   support\n",
      "\n",
      "         0.0       0.96      0.92      0.94      2147\n",
      "         1.0       0.43      0.59      0.50       221\n",
      "\n",
      "    accuracy                           0.89      2368\n",
      "   macro avg       0.69      0.75      0.72      2368\n",
      "weighted avg       0.91      0.89      0.90      2368\n",
      "\n",
      "-----------------------------------------\n",
      "Epoch: 36\n"
     ]
    },
    {
     "name": "stderr",
     "output_type": "stream",
     "text": [
      "100%|██████████| 261/261 [00:01<00:00, 227.89it/s]\n",
      "  9%|▉         | 23/261 [00:00<00:01, 222.64it/s]"
     ]
    },
    {
     "name": "stdout",
     "output_type": "stream",
     "text": [
      "Loss is:  0.952230038369478\n",
      "-----------------------------------------\n",
      "Epoch: 37\n"
     ]
    },
    {
     "name": "stderr",
     "output_type": "stream",
     "text": [
      "100%|██████████| 261/261 [00:01<00:00, 226.49it/s]\n",
      " 16%|█▋        | 43/261 [00:00<00:01, 209.88it/s]"
     ]
    },
    {
     "name": "stdout",
     "output_type": "stream",
     "text": [
      "Loss is:  0.9519193069856252\n",
      "-----------------------------------------\n",
      "Epoch: 38\n"
     ]
    },
    {
     "name": "stderr",
     "output_type": "stream",
     "text": [
      "100%|██████████| 261/261 [00:01<00:00, 223.77it/s]\n",
      "  9%|▉         | 24/261 [00:00<00:01, 233.93it/s]"
     ]
    },
    {
     "name": "stdout",
     "output_type": "stream",
     "text": [
      "Loss is:  0.9511860770337756\n",
      "-----------------------------------------\n",
      "Epoch: 39\n"
     ]
    },
    {
     "name": "stderr",
     "output_type": "stream",
     "text": [
      "100%|██████████| 261/261 [00:01<00:00, 227.35it/s]\n",
      " 19%|█▉        | 49/261 [00:00<00:00, 238.97it/s]"
     ]
    },
    {
     "name": "stdout",
     "output_type": "stream",
     "text": [
      "Loss is:  0.9512466697891329\n",
      "-----------------------------------------\n",
      "Epoch: 40\n"
     ]
    },
    {
     "name": "stderr",
     "output_type": "stream",
     "text": [
      "100%|██████████| 261/261 [00:01<00:00, 224.90it/s]\n",
      "  0%|          | 0/261 [00:00<?, ?it/s]/Users/rishabhkhanna/miniconda3/lib/python3.8/site-packages/torch/nn/functional.py:1639: UserWarning: nn.functional.sigmoid is deprecated. Use torch.sigmoid instead.\n",
      "  warnings.warn(\"nn.functional.sigmoid is deprecated. Use torch.sigmoid instead.\")\n",
      "  8%|▊         | 22/261 [00:00<00:01, 218.12it/s]"
     ]
    },
    {
     "name": "stdout",
     "output_type": "stream",
     "text": [
      "Loss is:  0.9514904444266388\n",
      "0.5272727272727272\n",
      "              precision    recall  f1-score   support\n",
      "\n",
      "         0.0       0.96      0.92      0.94      2145\n",
      "         1.0       0.44      0.65      0.53       223\n",
      "\n",
      "    accuracy                           0.89      2368\n",
      "   macro avg       0.70      0.78      0.73      2368\n",
      "weighted avg       0.91      0.89      0.90      2368\n",
      "\n",
      "-----------------------------------------\n",
      "Epoch: 41\n"
     ]
    },
    {
     "name": "stderr",
     "output_type": "stream",
     "text": [
      "100%|██████████| 261/261 [00:01<00:00, 227.94it/s]\n",
      " 10%|▉         | 25/261 [00:00<00:00, 239.58it/s]"
     ]
    },
    {
     "name": "stdout",
     "output_type": "stream",
     "text": [
      "Loss is:  0.9504165113411451\n",
      "-----------------------------------------\n",
      "Epoch: 42\n"
     ]
    },
    {
     "name": "stderr",
     "output_type": "stream",
     "text": [
      "100%|██████████| 261/261 [00:01<00:00, 227.11it/s]\n",
      "  9%|▉         | 24/261 [00:00<00:01, 232.36it/s]"
     ]
    },
    {
     "name": "stdout",
     "output_type": "stream",
     "text": [
      "Loss is:  0.94990958672817\n",
      "-----------------------------------------\n",
      "Epoch: 43\n"
     ]
    },
    {
     "name": "stderr",
     "output_type": "stream",
     "text": [
      "100%|██████████| 261/261 [00:01<00:00, 222.48it/s]\n",
      "  9%|▉         | 24/261 [00:00<00:01, 231.79it/s]"
     ]
    },
    {
     "name": "stdout",
     "output_type": "stream",
     "text": [
      "Loss is:  0.9492327266832747\n",
      "-----------------------------------------\n",
      "Epoch: 44\n"
     ]
    },
    {
     "name": "stderr",
     "output_type": "stream",
     "text": [
      "100%|██████████| 261/261 [00:01<00:00, 226.31it/s]\n",
      " 18%|█▊        | 48/261 [00:00<00:00, 232.18it/s]"
     ]
    },
    {
     "name": "stdout",
     "output_type": "stream",
     "text": [
      "Loss is:  0.9495386973354049\n",
      "-----------------------------------------\n",
      "Epoch: 45\n"
     ]
    },
    {
     "name": "stderr",
     "output_type": "stream",
     "text": [
      "100%|██████████| 261/261 [00:01<00:00, 226.12it/s]\n",
      "  0%|          | 0/261 [00:00<?, ?it/s]/Users/rishabhkhanna/miniconda3/lib/python3.8/site-packages/torch/nn/functional.py:1639: UserWarning: nn.functional.sigmoid is deprecated. Use torch.sigmoid instead.\n",
      "  warnings.warn(\"nn.functional.sigmoid is deprecated. Use torch.sigmoid instead.\")\n",
      "  9%|▉         | 23/261 [00:00<00:01, 221.66it/s]"
     ]
    },
    {
     "name": "stdout",
     "output_type": "stream",
     "text": [
      "Loss is:  0.9498210059175188\n",
      "0.5148148148148148\n",
      "              precision    recall  f1-score   support\n",
      "\n",
      "         0.0       0.96      0.92      0.94      2149\n",
      "         1.0       0.43      0.63      0.51       219\n",
      "\n",
      "    accuracy                           0.89      2368\n",
      "   macro avg       0.70      0.78      0.73      2368\n",
      "weighted avg       0.91      0.89      0.90      2368\n",
      "\n",
      "-----------------------------------------\n",
      "Epoch: 46\n"
     ]
    },
    {
     "name": "stderr",
     "output_type": "stream",
     "text": [
      "100%|██████████| 261/261 [00:01<00:00, 222.93it/s]\n",
      " 18%|█▊        | 47/261 [00:00<00:00, 234.11it/s]"
     ]
    },
    {
     "name": "stdout",
     "output_type": "stream",
     "text": [
      "Loss is:  0.9496543399069456\n",
      "-----------------------------------------\n",
      "Epoch: 47\n"
     ]
    },
    {
     "name": "stderr",
     "output_type": "stream",
     "text": [
      "100%|██████████| 261/261 [00:01<00:00, 227.01it/s]\n",
      "  9%|▉         | 23/261 [00:00<00:01, 222.68it/s]"
     ]
    },
    {
     "name": "stdout",
     "output_type": "stream",
     "text": [
      "Loss is:  0.9486548456687642\n",
      "-----------------------------------------\n",
      "Epoch: 48\n"
     ]
    },
    {
     "name": "stderr",
     "output_type": "stream",
     "text": [
      "100%|██████████| 261/261 [00:01<00:00, 231.69it/s]\n",
      "  9%|▉         | 24/261 [00:00<00:01, 233.19it/s]"
     ]
    },
    {
     "name": "stdout",
     "output_type": "stream",
     "text": [
      "Loss is:  0.9484955716964734\n",
      "-----------------------------------------\n",
      "Epoch: 49\n"
     ]
    },
    {
     "name": "stderr",
     "output_type": "stream",
     "text": [
      "100%|██████████| 261/261 [00:01<00:00, 226.69it/s]\n",
      "  9%|▉         | 23/261 [00:00<00:01, 222.52it/s]"
     ]
    },
    {
     "name": "stdout",
     "output_type": "stream",
     "text": [
      "Loss is:  0.9476691208003611\n",
      "-----------------------------------------\n",
      "Epoch: 50\n"
     ]
    },
    {
     "name": "stderr",
     "output_type": "stream",
     "text": [
      "100%|██████████| 261/261 [00:01<00:00, 224.86it/s]\n",
      "  0%|          | 0/261 [00:00<?, ?it/s]/Users/rishabhkhanna/miniconda3/lib/python3.8/site-packages/torch/nn/functional.py:1639: UserWarning: nn.functional.sigmoid is deprecated. Use torch.sigmoid instead.\n",
      "  warnings.warn(\"nn.functional.sigmoid is deprecated. Use torch.sigmoid instead.\")\n",
      "  9%|▉         | 23/261 [00:00<00:01, 227.47it/s]"
     ]
    },
    {
     "name": "stdout",
     "output_type": "stream",
     "text": [
      "Loss is:  0.9477595045875973\n",
      "0.5045372050816697\n",
      "              precision    recall  f1-score   support\n",
      "\n",
      "         0.0       0.96      0.91      0.93      2147\n",
      "         1.0       0.42      0.63      0.50       221\n",
      "\n",
      "    accuracy                           0.88      2368\n",
      "   macro avg       0.69      0.77      0.72      2368\n",
      "weighted avg       0.91      0.88      0.89      2368\n",
      "\n",
      "-----------------------------------------\n",
      "Epoch: 51\n"
     ]
    },
    {
     "name": "stderr",
     "output_type": "stream",
     "text": [
      "100%|██████████| 261/261 [00:01<00:00, 229.23it/s]\n",
      " 18%|█▊        | 47/261 [00:00<00:00, 231.20it/s]"
     ]
    },
    {
     "name": "stdout",
     "output_type": "stream",
     "text": [
      "Loss is:  0.9473657953071143\n",
      "-----------------------------------------\n",
      "Epoch: 52\n"
     ]
    },
    {
     "name": "stderr",
     "output_type": "stream",
     "text": [
      "100%|██████████| 261/261 [00:01<00:00, 222.91it/s]\n",
      " 18%|█▊        | 48/261 [00:00<00:00, 232.02it/s]"
     ]
    },
    {
     "name": "stdout",
     "output_type": "stream",
     "text": [
      "Loss is:  0.9476064723668354\n",
      "-----------------------------------------\n",
      "Epoch: 53\n"
     ]
    },
    {
     "name": "stderr",
     "output_type": "stream",
     "text": [
      "100%|██████████| 261/261 [00:01<00:00, 224.72it/s]\n",
      " 18%|█▊        | 46/261 [00:00<00:00, 228.78it/s]"
     ]
    },
    {
     "name": "stdout",
     "output_type": "stream",
     "text": [
      "Loss is:  0.9477929057641874\n",
      "-----------------------------------------\n",
      "Epoch: 54\n"
     ]
    },
    {
     "name": "stderr",
     "output_type": "stream",
     "text": [
      "100%|██████████| 261/261 [00:01<00:00, 228.40it/s]\n",
      "  9%|▉         | 23/261 [00:00<00:01, 223.33it/s]"
     ]
    },
    {
     "name": "stdout",
     "output_type": "stream",
     "text": [
      "Loss is:  0.9477951339295696\n",
      "-----------------------------------------\n",
      "Epoch: 55\n"
     ]
    },
    {
     "name": "stderr",
     "output_type": "stream",
     "text": [
      "100%|██████████| 261/261 [00:01<00:00, 225.65it/s]\n",
      "  0%|          | 0/261 [00:00<?, ?it/s]/Users/rishabhkhanna/miniconda3/lib/python3.8/site-packages/torch/nn/functional.py:1639: UserWarning: nn.functional.sigmoid is deprecated. Use torch.sigmoid instead.\n",
      "  warnings.warn(\"nn.functional.sigmoid is deprecated. Use torch.sigmoid instead.\")\n",
      "  8%|▊         | 22/261 [00:00<00:01, 217.10it/s]"
     ]
    },
    {
     "name": "stdout",
     "output_type": "stream",
     "text": [
      "Loss is:  0.9478625137561218\n",
      "0.5223880597014925\n",
      "              precision    recall  f1-score   support\n",
      "\n",
      "         0.0       0.96      0.92      0.94      2147\n",
      "         1.0       0.44      0.63      0.52       221\n",
      "\n",
      "    accuracy                           0.89      2368\n",
      "   macro avg       0.70      0.78      0.73      2368\n",
      "weighted avg       0.91      0.89      0.90      2368\n",
      "\n",
      "-----------------------------------------\n",
      "Epoch: 56\n"
     ]
    },
    {
     "name": "stderr",
     "output_type": "stream",
     "text": [
      "100%|██████████| 261/261 [00:01<00:00, 226.29it/s]\n",
      "  9%|▉         | 23/261 [00:00<00:01, 224.74it/s]"
     ]
    },
    {
     "name": "stdout",
     "output_type": "stream",
     "text": [
      "Loss is:  0.9472845880294134\n",
      "-----------------------------------------\n",
      "Epoch: 57\n"
     ]
    },
    {
     "name": "stderr",
     "output_type": "stream",
     "text": [
      "100%|██████████| 261/261 [00:01<00:00, 224.34it/s]\n",
      "  9%|▉         | 24/261 [00:00<00:01, 233.69it/s]"
     ]
    },
    {
     "name": "stdout",
     "output_type": "stream",
     "text": [
      "Loss is:  0.9475887491759275\n",
      "-----------------------------------------\n",
      "Epoch: 58\n"
     ]
    },
    {
     "name": "stderr",
     "output_type": "stream",
     "text": [
      "100%|██████████| 261/261 [00:01<00:00, 230.22it/s]\n",
      "  9%|▉         | 23/261 [00:00<00:01, 228.28it/s]"
     ]
    },
    {
     "name": "stdout",
     "output_type": "stream",
     "text": [
      "Loss is:  0.9468251864207491\n",
      "-----------------------------------------\n",
      "Epoch: 59\n"
     ]
    },
    {
     "name": "stderr",
     "output_type": "stream",
     "text": [
      "100%|██████████| 261/261 [00:01<00:00, 232.20it/s]\n",
      "  9%|▉         | 24/261 [00:00<00:00, 237.91it/s]"
     ]
    },
    {
     "name": "stdout",
     "output_type": "stream",
     "text": [
      "Loss is:  0.9471660732226218\n",
      "-----------------------------------------\n",
      "Epoch: 60\n"
     ]
    },
    {
     "name": "stderr",
     "output_type": "stream",
     "text": [
      "100%|██████████| 261/261 [00:01<00:00, 229.84it/s]\n",
      "  0%|          | 0/261 [00:00<?, ?it/s]/Users/rishabhkhanna/miniconda3/lib/python3.8/site-packages/torch/nn/functional.py:1639: UserWarning: nn.functional.sigmoid is deprecated. Use torch.sigmoid instead.\n",
      "  warnings.warn(\"nn.functional.sigmoid is deprecated. Use torch.sigmoid instead.\")\n",
      "  8%|▊         | 22/261 [00:00<00:01, 211.96it/s]"
     ]
    },
    {
     "name": "stdout",
     "output_type": "stream",
     "text": [
      "Loss is:  0.9462707945324911\n",
      "0.49516441005802714\n",
      "              precision    recall  f1-score   support\n",
      "\n",
      "         0.0       0.95      0.92      0.94      2146\n",
      "         1.0       0.43      0.58      0.50       222\n",
      "\n",
      "    accuracy                           0.89      2368\n",
      "   macro avg       0.69      0.75      0.72      2368\n",
      "weighted avg       0.91      0.89      0.90      2368\n",
      "\n",
      "-----------------------------------------\n",
      "Epoch: 61\n"
     ]
    },
    {
     "name": "stderr",
     "output_type": "stream",
     "text": [
      "100%|██████████| 261/261 [00:01<00:00, 226.06it/s]\n",
      " 18%|█▊        | 47/261 [00:00<00:00, 234.67it/s]"
     ]
    },
    {
     "name": "stdout",
     "output_type": "stream",
     "text": [
      "Loss is:  0.9463691606389955\n",
      "-----------------------------------------\n",
      "Epoch: 62\n"
     ]
    },
    {
     "name": "stderr",
     "output_type": "stream",
     "text": [
      "100%|██████████| 261/261 [00:01<00:00, 227.83it/s]\n",
      " 18%|█▊        | 47/261 [00:00<00:00, 231.06it/s]"
     ]
    },
    {
     "name": "stdout",
     "output_type": "stream",
     "text": [
      "Loss is:  0.9458693908974082\n",
      "-----------------------------------------\n",
      "Epoch: 63\n"
     ]
    },
    {
     "name": "stderr",
     "output_type": "stream",
     "text": [
      "100%|██████████| 261/261 [00:01<00:00, 225.90it/s]\n",
      "  9%|▉         | 23/261 [00:00<00:01, 223.33it/s]"
     ]
    },
    {
     "name": "stdout",
     "output_type": "stream",
     "text": [
      "Loss is:  0.9461472852793539\n",
      "-----------------------------------------\n",
      "Epoch: 64\n"
     ]
    },
    {
     "name": "stderr",
     "output_type": "stream",
     "text": [
      "100%|██████████| 261/261 [00:01<00:00, 224.87it/s]\n",
      "  9%|▉         | 23/261 [00:00<00:01, 227.98it/s]"
     ]
    },
    {
     "name": "stdout",
     "output_type": "stream",
     "text": [
      "Loss is:  0.9460254297182679\n",
      "-----------------------------------------\n",
      "Epoch: 65\n"
     ]
    },
    {
     "name": "stderr",
     "output_type": "stream",
     "text": [
      "100%|██████████| 261/261 [00:01<00:00, 227.30it/s]\n",
      "  0%|          | 0/261 [00:00<?, ?it/s]/Users/rishabhkhanna/miniconda3/lib/python3.8/site-packages/torch/nn/functional.py:1639: UserWarning: nn.functional.sigmoid is deprecated. Use torch.sigmoid instead.\n",
      "  warnings.warn(\"nn.functional.sigmoid is deprecated. Use torch.sigmoid instead.\")\n",
      "  8%|▊         | 22/261 [00:00<00:01, 218.51it/s]"
     ]
    },
    {
     "name": "stdout",
     "output_type": "stream",
     "text": [
      "Loss is:  0.9450969855713452\n",
      "0.5207956600361663\n",
      "              precision    recall  f1-score   support\n",
      "\n",
      "         0.0       0.96      0.91      0.94      2145\n",
      "         1.0       0.44      0.65      0.52       223\n",
      "\n",
      "    accuracy                           0.89      2368\n",
      "   macro avg       0.70      0.78      0.73      2368\n",
      "weighted avg       0.91      0.89      0.90      2368\n",
      "\n",
      "-----------------------------------------\n",
      "Epoch: 66\n"
     ]
    },
    {
     "name": "stderr",
     "output_type": "stream",
     "text": [
      "100%|██████████| 261/261 [00:01<00:00, 229.81it/s]\n",
      "  9%|▉         | 24/261 [00:00<00:00, 238.55it/s]"
     ]
    },
    {
     "name": "stdout",
     "output_type": "stream",
     "text": [
      "Loss is:  0.9463664701414612\n",
      "-----------------------------------------\n",
      "Epoch: 67\n"
     ]
    },
    {
     "name": "stderr",
     "output_type": "stream",
     "text": [
      "100%|██████████| 261/261 [00:01<00:00, 229.18it/s]\n",
      "  9%|▉         | 23/261 [00:00<00:01, 223.68it/s]"
     ]
    },
    {
     "name": "stdout",
     "output_type": "stream",
     "text": [
      "Loss is:  0.9456703562080669\n",
      "-----------------------------------------\n",
      "Epoch: 68\n"
     ]
    },
    {
     "name": "stderr",
     "output_type": "stream",
     "text": [
      "100%|██████████| 261/261 [00:01<00:00, 227.27it/s]\n",
      "  9%|▉         | 23/261 [00:00<00:01, 221.98it/s]"
     ]
    },
    {
     "name": "stdout",
     "output_type": "stream",
     "text": [
      "Loss is:  0.9452635641872774\n",
      "-----------------------------------------\n",
      "Epoch: 69\n"
     ]
    },
    {
     "name": "stderr",
     "output_type": "stream",
     "text": [
      "100%|██████████| 261/261 [00:01<00:00, 227.81it/s]\n",
      "  9%|▉         | 24/261 [00:00<00:01, 232.43it/s]"
     ]
    },
    {
     "name": "stdout",
     "output_type": "stream",
     "text": [
      "Loss is:  0.9453863061421414\n",
      "-----------------------------------------\n",
      "Epoch: 70\n"
     ]
    },
    {
     "name": "stderr",
     "output_type": "stream",
     "text": [
      "100%|██████████| 261/261 [00:01<00:00, 229.32it/s]\n",
      "  0%|          | 0/261 [00:00<?, ?it/s]/Users/rishabhkhanna/miniconda3/lib/python3.8/site-packages/torch/nn/functional.py:1639: UserWarning: nn.functional.sigmoid is deprecated. Use torch.sigmoid instead.\n",
      "  warnings.warn(\"nn.functional.sigmoid is deprecated. Use torch.sigmoid instead.\")\n",
      "  9%|▉         | 23/261 [00:00<00:01, 222.78it/s]"
     ]
    },
    {
     "name": "stdout",
     "output_type": "stream",
     "text": [
      "Loss is:  0.9456990632852734\n",
      "0.5142857142857142\n",
      "              precision    recall  f1-score   support\n",
      "\n",
      "         0.0       0.96      0.91      0.93      2147\n",
      "         1.0       0.42      0.65      0.51       221\n",
      "\n",
      "    accuracy                           0.89      2368\n",
      "   macro avg       0.69      0.78      0.72      2368\n",
      "weighted avg       0.91      0.89      0.90      2368\n",
      "\n",
      "-----------------------------------------\n",
      "Epoch: 71\n"
     ]
    },
    {
     "name": "stderr",
     "output_type": "stream",
     "text": [
      "100%|██████████| 261/261 [00:01<00:00, 225.26it/s]\n",
      " 18%|█▊        | 48/261 [00:00<00:00, 231.46it/s]"
     ]
    },
    {
     "name": "stdout",
     "output_type": "stream",
     "text": [
      "Loss is:  0.9448511183783491\n",
      "-----------------------------------------\n",
      "Epoch: 72\n"
     ]
    },
    {
     "name": "stderr",
     "output_type": "stream",
     "text": [
      "100%|██████████| 261/261 [00:01<00:00, 224.88it/s]\n",
      " 18%|█▊        | 47/261 [00:00<00:00, 229.84it/s]"
     ]
    },
    {
     "name": "stdout",
     "output_type": "stream",
     "text": [
      "Loss is:  0.944929619077137\n",
      "-----------------------------------------\n",
      "Epoch: 73\n"
     ]
    },
    {
     "name": "stderr",
     "output_type": "stream",
     "text": [
      "100%|██████████| 261/261 [00:01<00:00, 227.40it/s]\n",
      "  9%|▉         | 23/261 [00:00<00:01, 217.16it/s]"
     ]
    },
    {
     "name": "stdout",
     "output_type": "stream",
     "text": [
      "Loss is:  0.9451239893487539\n",
      "-----------------------------------------\n",
      "Epoch: 74\n"
     ]
    },
    {
     "name": "stderr",
     "output_type": "stream",
     "text": [
      "100%|██████████| 261/261 [00:01<00:00, 225.91it/s]\n",
      "  8%|▊         | 22/261 [00:00<00:01, 218.61it/s]"
     ]
    },
    {
     "name": "stdout",
     "output_type": "stream",
     "text": [
      "Loss is:  0.944528490218048\n",
      "-----------------------------------------\n",
      "Epoch: 75\n"
     ]
    },
    {
     "name": "stderr",
     "output_type": "stream",
     "text": [
      "100%|██████████| 261/261 [00:01<00:00, 223.14it/s]\n",
      "  0%|          | 0/261 [00:00<?, ?it/s]/Users/rishabhkhanna/miniconda3/lib/python3.8/site-packages/torch/nn/functional.py:1639: UserWarning: nn.functional.sigmoid is deprecated. Use torch.sigmoid instead.\n",
      "  warnings.warn(\"nn.functional.sigmoid is deprecated. Use torch.sigmoid instead.\")\n",
      "  9%|▉         | 23/261 [00:00<00:01, 222.57it/s]"
     ]
    },
    {
     "name": "stdout",
     "output_type": "stream",
     "text": [
      "Loss is:  0.944648024452833\n",
      "0.5055762081784386\n",
      "              precision    recall  f1-score   support\n",
      "\n",
      "         0.0       0.96      0.92      0.94      2146\n",
      "         1.0       0.43      0.61      0.51       222\n",
      "\n",
      "    accuracy                           0.89      2368\n",
      "   macro avg       0.69      0.76      0.72      2368\n",
      "weighted avg       0.91      0.89      0.90      2368\n",
      "\n",
      "-----------------------------------------\n",
      "Epoch: 76\n"
     ]
    },
    {
     "name": "stderr",
     "output_type": "stream",
     "text": [
      "100%|██████████| 261/261 [00:01<00:00, 228.21it/s]\n",
      "  9%|▉         | 24/261 [00:00<00:01, 234.95it/s]"
     ]
    },
    {
     "name": "stdout",
     "output_type": "stream",
     "text": [
      "Loss is:  0.9451399591520435\n",
      "-----------------------------------------\n",
      "Epoch: 77\n"
     ]
    },
    {
     "name": "stderr",
     "output_type": "stream",
     "text": [
      "100%|██████████| 261/261 [00:01<00:00, 230.21it/s]\n",
      "  9%|▉         | 23/261 [00:00<00:01, 223.36it/s]"
     ]
    },
    {
     "name": "stdout",
     "output_type": "stream",
     "text": [
      "Loss is:  0.9448707398244787\n",
      "-----------------------------------------\n",
      "Epoch: 78\n"
     ]
    },
    {
     "name": "stderr",
     "output_type": "stream",
     "text": [
      "100%|██████████| 261/261 [00:01<00:00, 224.79it/s]\n",
      "  8%|▊         | 22/261 [00:00<00:01, 217.35it/s]"
     ]
    },
    {
     "name": "stdout",
     "output_type": "stream",
     "text": [
      "Loss is:  0.9445504094703481\n",
      "-----------------------------------------\n",
      "Epoch: 79\n"
     ]
    },
    {
     "name": "stderr",
     "output_type": "stream",
     "text": [
      "100%|██████████| 261/261 [00:01<00:00, 225.34it/s]\n",
      "  9%|▉         | 23/261 [00:00<00:01, 221.41it/s]"
     ]
    },
    {
     "name": "stdout",
     "output_type": "stream",
     "text": [
      "Loss is:  0.944098346861213\n",
      "-----------------------------------------\n",
      "Epoch: 80\n"
     ]
    },
    {
     "name": "stderr",
     "output_type": "stream",
     "text": [
      "100%|██████████| 261/261 [00:01<00:00, 223.49it/s]\n",
      "  0%|          | 0/261 [00:00<?, ?it/s]/Users/rishabhkhanna/miniconda3/lib/python3.8/site-packages/torch/nn/functional.py:1639: UserWarning: nn.functional.sigmoid is deprecated. Use torch.sigmoid instead.\n",
      "  warnings.warn(\"nn.functional.sigmoid is deprecated. Use torch.sigmoid instead.\")\n",
      "  8%|▊         | 22/261 [00:00<00:01, 211.06it/s]"
     ]
    },
    {
     "name": "stdout",
     "output_type": "stream",
     "text": [
      "Loss is:  0.9447510857697052\n",
      "0.48905109489051096\n",
      "              precision    recall  f1-score   support\n",
      "\n",
      "         0.0       0.96      0.91      0.93      2148\n",
      "         1.0       0.41      0.61      0.49       220\n",
      "\n",
      "    accuracy                           0.88      2368\n",
      "   macro avg       0.68      0.76      0.71      2368\n",
      "weighted avg       0.91      0.88      0.89      2368\n",
      "\n",
      "-----------------------------------------\n",
      "Epoch: 81\n"
     ]
    },
    {
     "name": "stderr",
     "output_type": "stream",
     "text": [
      "100%|██████████| 261/261 [00:01<00:00, 223.60it/s]\n",
      " 18%|█▊        | 46/261 [00:00<00:00, 227.41it/s]"
     ]
    },
    {
     "name": "stdout",
     "output_type": "stream",
     "text": [
      "Loss is:  0.9446170903538939\n",
      "-----------------------------------------\n",
      "Epoch: 82\n"
     ]
    },
    {
     "name": "stderr",
     "output_type": "stream",
     "text": [
      "100%|██████████| 261/261 [00:01<00:00, 223.11it/s]\n",
      " 18%|█▊        | 46/261 [00:00<00:00, 223.14it/s]"
     ]
    },
    {
     "name": "stdout",
     "output_type": "stream",
     "text": [
      "Loss is:  0.9436090118053827\n",
      "-----------------------------------------\n",
      "Epoch: 83\n"
     ]
    },
    {
     "name": "stderr",
     "output_type": "stream",
     "text": [
      "100%|██████████| 261/261 [00:01<00:00, 222.63it/s]\n",
      "  8%|▊         | 22/261 [00:00<00:01, 213.44it/s]"
     ]
    },
    {
     "name": "stdout",
     "output_type": "stream",
     "text": [
      "Loss is:  0.9445339175429475\n",
      "-----------------------------------------\n",
      "Epoch: 84\n"
     ]
    },
    {
     "name": "stderr",
     "output_type": "stream",
     "text": [
      "100%|██████████| 261/261 [00:01<00:00, 225.39it/s]\n",
      "  9%|▉         | 23/261 [00:00<00:01, 222.08it/s]"
     ]
    },
    {
     "name": "stdout",
     "output_type": "stream",
     "text": [
      "Loss is:  0.9443372041611794\n",
      "-----------------------------------------\n",
      "Epoch: 85\n"
     ]
    },
    {
     "name": "stderr",
     "output_type": "stream",
     "text": [
      "100%|██████████| 261/261 [00:01<00:00, 228.58it/s]\n",
      "  0%|          | 0/261 [00:00<?, ?it/s]/Users/rishabhkhanna/miniconda3/lib/python3.8/site-packages/torch/nn/functional.py:1639: UserWarning: nn.functional.sigmoid is deprecated. Use torch.sigmoid instead.\n",
      "  warnings.warn(\"nn.functional.sigmoid is deprecated. Use torch.sigmoid instead.\")\n",
      "  9%|▉         | 24/261 [00:00<00:01, 232.36it/s]"
     ]
    },
    {
     "name": "stdout",
     "output_type": "stream",
     "text": [
      "Loss is:  0.9440307759998936\n",
      "0.5074626865671642\n",
      "              precision    recall  f1-score   support\n",
      "\n",
      "         0.0       0.96      0.92      0.94      2147\n",
      "         1.0       0.43      0.62      0.51       221\n",
      "\n",
      "    accuracy                           0.89      2368\n",
      "   macro avg       0.70      0.77      0.72      2368\n",
      "weighted avg       0.91      0.89      0.90      2368\n",
      "\n",
      "-----------------------------------------\n",
      "Epoch: 86\n"
     ]
    },
    {
     "name": "stderr",
     "output_type": "stream",
     "text": [
      "100%|██████████| 261/261 [00:01<00:00, 225.50it/s]\n",
      "  8%|▊         | 22/261 [00:00<00:01, 219.00it/s]"
     ]
    },
    {
     "name": "stdout",
     "output_type": "stream",
     "text": [
      "Loss is:  0.9445217699654871\n",
      "-----------------------------------------\n",
      "Epoch: 87\n"
     ]
    },
    {
     "name": "stderr",
     "output_type": "stream",
     "text": [
      "100%|██████████| 261/261 [00:01<00:00, 226.87it/s]\n",
      "  9%|▉         | 23/261 [00:00<00:01, 229.55it/s]"
     ]
    },
    {
     "name": "stdout",
     "output_type": "stream",
     "text": [
      "Loss is:  0.9449535238199431\n",
      "-----------------------------------------\n",
      "Epoch: 88\n"
     ]
    },
    {
     "name": "stderr",
     "output_type": "stream",
     "text": [
      "100%|██████████| 261/261 [00:01<00:00, 226.05it/s]\n",
      "  9%|▉         | 24/261 [00:00<00:01, 236.13it/s]"
     ]
    },
    {
     "name": "stdout",
     "output_type": "stream",
     "text": [
      "Loss is:  0.9438058419158297\n",
      "-----------------------------------------\n",
      "Epoch: 89\n"
     ]
    },
    {
     "name": "stderr",
     "output_type": "stream",
     "text": [
      "100%|██████████| 261/261 [00:01<00:00, 227.79it/s]\n",
      "  9%|▉         | 24/261 [00:00<00:01, 230.06it/s]"
     ]
    },
    {
     "name": "stdout",
     "output_type": "stream",
     "text": [
      "Loss is:  0.9444071114875471\n",
      "-----------------------------------------\n",
      "Epoch: 90\n"
     ]
    },
    {
     "name": "stderr",
     "output_type": "stream",
     "text": [
      "100%|██████████| 261/261 [00:01<00:00, 228.88it/s]\n",
      "  0%|          | 0/261 [00:00<?, ?it/s]/Users/rishabhkhanna/miniconda3/lib/python3.8/site-packages/torch/nn/functional.py:1639: UserWarning: nn.functional.sigmoid is deprecated. Use torch.sigmoid instead.\n",
      "  warnings.warn(\"nn.functional.sigmoid is deprecated. Use torch.sigmoid instead.\")\n",
      "  9%|▉         | 23/261 [00:00<00:01, 221.06it/s]"
     ]
    },
    {
     "name": "stdout",
     "output_type": "stream",
     "text": [
      "Loss is:  0.9433365934300693\n",
      "0.5028571428571428\n",
      "              precision    recall  f1-score   support\n",
      "\n",
      "         0.0       0.96      0.92      0.94      2148\n",
      "         1.0       0.43      0.60      0.50       220\n",
      "\n",
      "    accuracy                           0.89      2368\n",
      "   macro avg       0.70      0.76      0.72      2368\n",
      "weighted avg       0.91      0.89      0.90      2368\n",
      "\n",
      "-----------------------------------------\n",
      "Epoch: 91\n"
     ]
    },
    {
     "name": "stderr",
     "output_type": "stream",
     "text": [
      "100%|██████████| 261/261 [00:01<00:00, 228.81it/s]\n",
      "  9%|▉         | 23/261 [00:00<00:01, 229.78it/s]"
     ]
    },
    {
     "name": "stdout",
     "output_type": "stream",
     "text": [
      "Loss is:  0.9448045613670595\n",
      "-----------------------------------------\n",
      "Epoch: 92\n"
     ]
    },
    {
     "name": "stderr",
     "output_type": "stream",
     "text": [
      "100%|██████████| 261/261 [00:01<00:00, 224.26it/s]\n",
      " 19%|█▉        | 49/261 [00:00<00:00, 238.95it/s]"
     ]
    },
    {
     "name": "stdout",
     "output_type": "stream",
     "text": [
      "Loss is:  0.9433939115524125\n",
      "-----------------------------------------\n",
      "Epoch: 93\n"
     ]
    },
    {
     "name": "stderr",
     "output_type": "stream",
     "text": [
      "100%|██████████| 261/261 [00:01<00:00, 229.32it/s]\n",
      "  9%|▉         | 23/261 [00:00<00:01, 225.30it/s]"
     ]
    },
    {
     "name": "stdout",
     "output_type": "stream",
     "text": [
      "Loss is:  0.9431273886314668\n",
      "-----------------------------------------\n",
      "Epoch: 94\n"
     ]
    },
    {
     "name": "stderr",
     "output_type": "stream",
     "text": [
      "100%|██████████| 261/261 [00:01<00:00, 226.77it/s]\n",
      "  9%|▉         | 23/261 [00:00<00:01, 223.40it/s]"
     ]
    },
    {
     "name": "stdout",
     "output_type": "stream",
     "text": [
      "Loss is:  0.9441977777235663\n",
      "-----------------------------------------\n",
      "Epoch: 95\n"
     ]
    },
    {
     "name": "stderr",
     "output_type": "stream",
     "text": [
      "100%|██████████| 261/261 [00:01<00:00, 223.96it/s]\n",
      "  0%|          | 0/261 [00:00<?, ?it/s]/Users/rishabhkhanna/miniconda3/lib/python3.8/site-packages/torch/nn/functional.py:1639: UserWarning: nn.functional.sigmoid is deprecated. Use torch.sigmoid instead.\n",
      "  warnings.warn(\"nn.functional.sigmoid is deprecated. Use torch.sigmoid instead.\")\n",
      "  9%|▉         | 23/261 [00:00<00:01, 222.21it/s]"
     ]
    },
    {
     "name": "stdout",
     "output_type": "stream",
     "text": [
      "Loss is:  0.9439515570154488\n",
      "0.512\n",
      "              precision    recall  f1-score   support\n",
      "\n",
      "         0.0       0.96      0.93      0.94      2147\n",
      "         1.0       0.46      0.58      0.51       221\n",
      "\n",
      "    accuracy                           0.90      2368\n",
      "   macro avg       0.71      0.75      0.73      2368\n",
      "weighted avg       0.91      0.90      0.90      2368\n",
      "\n",
      "-----------------------------------------\n",
      "Epoch: 96\n"
     ]
    },
    {
     "name": "stderr",
     "output_type": "stream",
     "text": [
      "100%|██████████| 261/261 [00:01<00:00, 217.88it/s]\n",
      "  9%|▉         | 23/261 [00:00<00:01, 221.58it/s]"
     ]
    },
    {
     "name": "stdout",
     "output_type": "stream",
     "text": [
      "Loss is:  0.9431394497562321\n",
      "-----------------------------------------\n",
      "Epoch: 97\n"
     ]
    },
    {
     "name": "stderr",
     "output_type": "stream",
     "text": [
      "100%|██████████| 261/261 [00:01<00:00, 226.48it/s]\n",
      "  9%|▉         | 23/261 [00:00<00:01, 224.50it/s]"
     ]
    },
    {
     "name": "stdout",
     "output_type": "stream",
     "text": [
      "Loss is:  0.9432060534925231\n",
      "-----------------------------------------\n",
      "Epoch: 98\n"
     ]
    },
    {
     "name": "stderr",
     "output_type": "stream",
     "text": [
      "100%|██████████| 261/261 [00:01<00:00, 227.65it/s]\n",
      "  9%|▉         | 23/261 [00:00<00:01, 228.04it/s]"
     ]
    },
    {
     "name": "stdout",
     "output_type": "stream",
     "text": [
      "Loss is:  0.9440720657676304\n",
      "-----------------------------------------\n",
      "Epoch: 99\n"
     ]
    },
    {
     "name": "stderr",
     "output_type": "stream",
     "text": [
      "100%|██████████| 261/261 [00:01<00:00, 225.93it/s]"
     ]
    },
    {
     "name": "stdout",
     "output_type": "stream",
     "text": [
      "Loss is:  0.9437819097370682\n"
     ]
    },
    {
     "name": "stderr",
     "output_type": "stream",
     "text": [
      "\n"
     ]
    }
   ],
   "source": [
    "from __future__ import print_function\n",
    "import torch\n",
    "import numpy as np\n",
    "import pandas as pd\n",
    "import pickle\n",
    "import scipy.stats as st\n",
    "import os\n",
    "from tqdm import tqdm\n",
    "from sklearn.metrics import *\n",
    "from sklearn.calibration import calibration_curve\n",
    "from pdb import set_trace as bp\n",
    "\n",
    "for epoch in range(100):\n",
    "    print('-----------------------------------------')\n",
    "    print('Epoch: {}'.format(epoch))\n",
    "    net.train()\n",
    "    time_start = time()\n",
    "    loss_val = 0\n",
    "    for i, (X, label) in enumerate(tqdm(train_loader),0):\n",
    "        optimizer.zero_grad()\n",
    "        label_pred = net(X)\n",
    "        loss = criterion(label_pred, label.view(-1,1))\n",
    "        loss.backward()\n",
    "        optimizer.step()\n",
    "        loss_val += loss.item()\n",
    "    \n",
    "    time_end = time()\n",
    "    epoch_times.append(time_end-time_start)\n",
    "    print('Loss is: ', loss_val/(i+1))\n",
    "    if epoch%5 == 0:\n",
    "        _, valid_loader = prepare_dataloader(validX, validY, 64)\n",
    "        net.eval()\n",
    "        label_pred = torch.Tensor([])\n",
    "        label_test = torch.Tensor([])\n",
    "        with torch.no_grad():\n",
    "            for i, (X, label) in enumerate(valid_loader, 0):\n",
    "                # move to GPU if available\n",
    "\n",
    "                label_pred_batch = net(X)\n",
    "                label_pred_batch.apply_(lambda x: 1 if x>0.5 else 0)\n",
    "                label_pred = torch.cat((label_pred, label_pred_batch.cpu()))\n",
    "                label_test = torch.cat((label_test, label.view(-1,1)))\n",
    "\n",
    "\n",
    "        # Average precision\n",
    "        avpre = average_precision_score(label_test, label_pred)\n",
    "\n",
    "        # Determine AUROC score\n",
    "        auroc = roc_auc_score(label_test, label_pred)\n",
    "\n",
    "        acc   = accuracy_score(label_test, label_pred)\n",
    "        \n",
    "        f1 = f1_score(label_test,label_pred)\n",
    "        print(f1)\n",
    "        print(classification_report(label_test,label_pred))"
   ]
  },
  {
   "cell_type": "code",
   "execution_count": 417,
   "metadata": {},
   "outputs": [
    {
     "name": "stdout",
     "output_type": "stream",
     "text": [
      "F1 Score :  0.5592592592592592\n",
      "              precision    recall  f1-score   support\n",
      "\n",
      "         0.0       0.96      0.93      0.94      4249\n",
      "         1.0       0.51      0.62      0.56       487\n",
      "\n",
      "    accuracy                           0.90      4736\n",
      "   macro avg       0.73      0.78      0.75      4736\n",
      "weighted avg       0.91      0.90      0.90      4736\n",
      "\n"
     ]
    }
   ],
   "source": [
    "_, test_loader = prepare_dataloader(testX, testY, 64)\n",
    "net.eval()\n",
    "label_pred = torch.Tensor([])\n",
    "label_test = torch.Tensor([])\n",
    "with torch.no_grad():\n",
    "  for i, (X, label) in enumerate(test_loader, 0):\n",
    "    # move to GPU if available\n",
    "\n",
    "    label_pred_batch = net(X)\n",
    "    label_pred_batch.apply_(lambda x: 1 if x>0.5 else 0)\n",
    "    label_pred = torch.cat((label_pred, label_pred_batch.cpu()))\n",
    "    label_test = torch.cat((label_test, label.view(-1,1)))\n",
    "\n",
    "\n",
    "# Average precision\n",
    "avpre = average_precision_score(label_test, label_pred)\n",
    "\n",
    "# Determine AUROC score\n",
    "auroc = roc_auc_score(label_test, label_pred)\n",
    "\n",
    "acc   = accuracy_score(label_test, label_pred)\n",
    "\n",
    "f1 = f1_score(label_test,label_pred)\n",
    "print('F1 Score : ',f1)\n",
    "print(classification_report(label_test,label_pred))"
   ]
  }
 ],
 "metadata": {
  "kernelspec": {
   "display_name": "Python 3",
   "language": "python",
   "name": "python3"
  },
  "language_info": {
   "codemirror_mode": {
    "name": "ipython",
    "version": 3
   },
   "file_extension": ".py",
   "mimetype": "text/x-python",
   "name": "python",
   "nbconvert_exporter": "python",
   "pygments_lexer": "ipython3",
   "version": "3.8.6"
  }
 },
 "nbformat": 4,
 "nbformat_minor": 4
}
